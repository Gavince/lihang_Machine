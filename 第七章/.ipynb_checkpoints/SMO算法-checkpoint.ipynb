{
 "cells": [
  {
   "cell_type": "markdown",
   "metadata": {},
   "source": [
    "### SMO算法"
   ]
  },
  {
   "cell_type": "code",
   "execution_count": 85,
   "metadata": {},
   "outputs": [],
   "source": [
    "from numpy import *\n",
    "import pandas as pd"
   ]
  },
  {
   "cell_type": "markdown",
   "metadata": {},
   "source": [
    "### 加载数据"
   ]
  },
  {
   "cell_type": "code",
   "execution_count": 86,
   "metadata": {},
   "outputs": [],
   "source": [
    "def loadDataset(filename):\n",
    "    dataMat = []\n",
    "    yMat = []\n",
    "    fr = open(filename)\n",
    "    for line in fr.readlines():\n",
    "        line = line.strip().split(\",\")\n",
    "        dataMat.append([float(line[0]),float(line[1]),float(line[2]), float(line[3])])\n",
    "        yMat.append(float(line[4]))\n",
    "    return dataMat, yMat"
   ]
  },
  {
   "cell_type": "markdown",
   "metadata": {},
   "source": [
    "### 存储全局变量"
   ]
  },
  {
   "cell_type": "code",
   "execution_count": 87,
   "metadata": {},
   "outputs": [],
   "source": [
    "class diyStruct:\n",
    "    def __init__(self, dataMat, yMat, C, toler, kernelParam):\n",
    "        self.dataMat = dataMat\n",
    "        self.yMat = yMat\n",
    "        self.C = C\n",
    "        self.toler = toler #精确误差度\n",
    "        self.m = shape(dataMat)[0] # 样本数目\n",
    "        self.E = mat(zeros((self.m, 2))) # 误差项\n",
    "        self.alphas = mat(zeros((self.m , 1))) # 拉格朗日系数\n",
    "        self.b = 0\n",
    "        self.K = mat(zeros((self.m, self.m))) # 核函数\n",
    "        for i  in range(self.m):\n",
    "            self.K[:, i] = transfer2Kernel(self.dataMat, self.dataMat[i, :], kernelParam)"
   ]
  },
  {
   "cell_type": "markdown",
   "metadata": {},
   "source": [
    "### 核函数"
   ]
  },
  {
   "cell_type": "code",
   "execution_count": 88,
   "metadata": {},
   "outputs": [],
   "source": [
    "def transfer2Kernel(X, Xi, kernelParam):\n",
    "    m = shape(X)[0]\n",
    "    Ktemp = mat(zeros((m, 1)))\n",
    "    \n",
    "    if kernelParam[0] == \"rbf\":\n",
    "        for i in range(m):\n",
    "            xdelta = X[i, :] - Xi\n",
    "            # 第二范式\n",
    "            Ktemp[i] = xdelta * xdelta.T\n",
    "        Ktemp = exp(-Ktemp/kernelParam[1]**2)\n",
    "    else:raise NameError(\"underfined kernel name!\")\n",
    "    return Ktemp"
   ]
  },
  {
   "cell_type": "markdown",
   "metadata": {},
   "source": [
    "### 拉格朗日系数裁剪"
   ]
  },
  {
   "cell_type": "code",
   "execution_count": 89,
   "metadata": {},
   "outputs": [],
   "source": [
    "def clipAlpha(alphaJ, L, H):\n",
    "    if(alphaJ < L):\n",
    "        alphaJ = L\n",
    "    if(alphaJ > H):\n",
    "        alphaJ = H\n",
    "\n",
    "    return alphaJ"
   ]
  },
  {
   "cell_type": "markdown",
   "metadata": {},
   "source": [
    "### 裁剪系数b"
   ]
  },
  {
   "cell_type": "code",
   "execution_count": 90,
   "metadata": {},
   "outputs": [],
   "source": [
    "def calcb(b1new, b2new):\n",
    "    b = b1new\n",
    "    if (b1new != b2new):\n",
    "        b = (b1new + b2new) / 2\n",
    "    return b"
   ]
  },
  {
   "cell_type": "markdown",
   "metadata": {},
   "source": [
    "### 计算误差项"
   ]
  },
  {
   "cell_type": "code",
   "execution_count": 91,
   "metadata": {},
   "outputs": [],
   "source": [
    "def calcE(alphaI, diyObj):\n",
    "    \n",
    "    yI = float(diyObj.yMat[alphaI])\n",
    "    gxI = float(multiply(diyObj.alphas, diyObj.yMat).T * diyObj.K[:, alphaI]\n",
    "               + diyObj.b)\n",
    "    EI = gxI - yI\n",
    "    return EI"
   ]
  },
  {
   "cell_type": "markdown",
   "metadata": {},
   "source": [
    "### 选择系数$\\alpha_{1}, \\alpha_{2}$"
   ]
  },
  {
   "cell_type": "code",
   "execution_count": 92,
   "metadata": {},
   "outputs": [],
   "source": [
    "def selectJ(EI, alphaI, diyObj):\n",
    "    # 第一列索引值表示是否存贮相应的误差项\n",
    "    nonzeroEIndex = nonzero(diyObj.E[:, 0].A)[0]\n",
    "    alphaJ = 0\n",
    "    EJ = 0\n",
    "    maxDelta = 1\n",
    "    \n",
    "    # 第二个变量的选择\n",
    "    if len(nonzeroEIndex) > 1:\n",
    "        for j in nonzeroEIndex:\n",
    "            # 选择不同与I节点的值\n",
    "            if alphaI == j :continue \n",
    "            EJtemp = calcE(j, diyObj)\n",
    "            deltaE = abs(EI - EJtemp)\n",
    "            # 选择最大变化的\n",
    "            if (deltaE > maxDelta):\n",
    "                maxDelta = deltaE\n",
    "                alphaJ = j\n",
    "                EJ = EJtemp\n",
    "    else:\n",
    "        alphaJ = alphaI\n",
    "        while(alphaJ == alphaI):\n",
    "            alphaJ =int(random.uniform(0, diyObj.m))\n",
    "        EJ = calcE(alphaJ, diyObj)\n",
    "    \n",
    "    return alphaJ, EJ\n"
   ]
  },
  {
   "cell_type": "markdown",
   "metadata": {},
   "source": [
    "### 训练"
   ]
  },
  {
   "cell_type": "code",
   "execution_count": 93,
   "metadata": {},
   "outputs": [],
   "source": [
    "def iterL(alphaI, diyObj):\n",
    "    # 计算系数值\n",
    "    yI = diyObj.yMat[alphaI]\n",
    "    EI = calcE(alphaI, diyObj)\n",
    "    diyObj.E[alphaI] = [1, EI]\n",
    "    \n",
    "    #第一个变量的选择(违反KKT条件)\n",
    "    if((yI * EI > diyObj.toler and diyObj.alphas[alphaI] > 0) or\n",
    "            (yI * EI < - diyObj.toler and diyObj.alphas[alphaI] < diyObj.C)):\n",
    "        # 得到第二个变量\n",
    "        alphaJ, EJ = selectJ(EI, alphaI, diyObj)\n",
    "        yJ = diyObj.yMat[alphaJ]\n",
    "        \n",
    "        # old alpha\n",
    "        alpha1old = diyObj.alphas[alphaI].copy()\n",
    "        alpha2old = diyObj.alphas[alphaJ].copy()\n",
    "        \n",
    "        # 计算eta \n",
    "        eta = diyObj.K[alphaI, alphaI] + diyObj.K[alphaJ, alphaJ] \\\n",
    "        - 2 * diyObj.K[alphaI, alphaJ]\n",
    "        if eta <= 0: return 0\n",
    "        \n",
    "        # 裁剪alpha2\n",
    "        alpha2newUnclip = alpha2old + yJ*(EI - EJ)/eta\n",
    "        if (yI == yJ):\n",
    "            L = max(0, alpha1old + alpha2old -diyObj.C)\n",
    "            H = min(diyObj.C, alpha2old+alpha1old)\n",
    "        else:\n",
    "            L = max(0, alpha2old - alpha1old)\n",
    "            H = min(diyObj.C, diyObj.C - alpha1old + alpha2old)\n",
    "        if L==H: return 0\n",
    "        \n",
    "        alpha2new = clipAlpha(alpha2newUnclip, L, H)\n",
    "        \n",
    "        # 精度满足条件(停止条件)\n",
    "        if abs(alpha2new - alpha2old) < 0.00001: return 0\n",
    "        # 更新alpha1的值\n",
    "        alpha1new = alpha1old + yI * yJ * (alpha2old - alpha2new)\n",
    "        \n",
    "        # 更新b的值\n",
    "        b1new = - EI - yI * diyObj.K[alphaI,alphaI] * (alpha1new - alpha1old) \\\n",
    "                - yJ * diyObj.K[alphaJ, alphaI] * (alpha2new - alpha2old) \\\n",
    "                + diyObj.b\n",
    "        b2new = - EJ - yI * diyObj.K[alphaI,alphaJ] * (alpha1new - alpha1old) \\\n",
    "                - yJ * diyObj.K[alphaJ, alphaJ] * (alpha2new - alpha2old) \\\n",
    "                + diyObj.b\n",
    "        # 真正的b值\n",
    "        b = calcb(b1new, b2new)\n",
    "        \n",
    "        # 存储值\n",
    "        diyObj.alphas[alphaI] = alpha1new\n",
    "        diyObj.alphas[alphaJ] = alpha2new\n",
    "        diyObj.b = b\n",
    "        #变量优化后需要再次更新E值\n",
    "        diyObj.E[alphaI] = [1, calcE(alphaI, diyObj)]\n",
    "        diyObj.E[alphaJ] = [1, calcE(alphaJ, diyObj)]\n",
    "        return 1\n",
    "    else: return 0\n"
   ]
  },
  {
   "cell_type": "markdown",
   "metadata": {},
   "source": [
    "### SMO"
   ]
  },
  {
   "cell_type": "code",
   "execution_count": 94,
   "metadata": {},
   "outputs": [],
   "source": [
    "def smo(dataMat, yMat, C, toler, iterNum, kernelParam):\n",
    "    diyObj = diyStruct(mat(dataMat), mat(yMat).transpose(), C, toler, kernelParam)\n",
    "    currentToler = 0\n",
    "    changedAlphas = 0 # 记录此时的alpha对数\n",
    "    allSet = True\n",
    "    # 每次选择两个alpha值进行优化\n",
    "    while((currentToler < iterNum and changedAlphas >0)) or (allSet):\n",
    "        changedAlphas = 0\n",
    "        if allSet:\n",
    "            for i in range(diyObj.m):\n",
    "                changedAlphas += iterL(i, diyObj)\n",
    "                \n",
    "#                 print(\"iter:%d i:%d,pairs changed %d\"\n",
    "#                       %(currentToler, i, changedAlphas))\n",
    "            allSet = False\n",
    "        else:\n",
    "            #　遍历只符合 ０＜ai＜C 的alpha(在虚线超平面上的点)(non_bound)\n",
    "            alphaIs = nonzero((diyObj.alphas.A > 0) * (diyObj.alphas.A < C))[0] \n",
    "            for i in alphaIs:\n",
    "                changedAlphas += iterL(i, diyObj)\n",
    "#                 print(\"iter:%d i:%d,pairs changed %d\"\n",
    "#                       %(currentToler, i, changedAlphas))\n",
    "            if changedAlphas == 0:\n",
    "                allSet = True\n",
    "        # 记录迭代次数\n",
    "        currentToler += 1\n",
    "#         print(\"iteration number: %d\" % currentToler)\n",
    "    return diyObj.alphas, diyObj.b\n"
   ]
  },
  {
   "cell_type": "markdown",
   "metadata": {},
   "source": [
    "**注解**：\n",
    "第一个变量的选择称为外循环，首先遍历整个样本集，选择违反KKT条件的αi作为\n",
    "第一个变量．\n",
    "$$\n",
    "\\text { volators : } \\quad\\left(\\alpha_{i}<C \\Rightarrow y_{i} E_{i}<-\\varepsilon\\right) \\quad \\text { or } \\quad\\left(\\alpha_{i}>0 \\Rightarrow y_{i} E_{i}>\\varepsilon\\right)\n",
    "$$\n",
    "接着依据相关规则选择第二个变量(见下面分析),对这两个变量采用上\n",
    "述方法进行优化。当遍历完整个样本集后，遍历非边界样本集(0<αi<C)中违\n",
    "反KKT的αi作为第一个变量，同样依据相关规则选择第二个变量，对此两个变量\n",
    "进行优化。当遍历完非边界样本集后，再次回到遍历整个样本集中寻找，即在整个\n",
    "样本集与非边界样本集上来回切换，寻找违反KKT条件的αi作为第一个变量。直\n",
    "到遍历整个样本集后，没有违反KKT条件αi，然后退出。边界上的样本对应的αi=0\n",
    "或者αi=C，在优化过程中很难变化，然而非边界样本0<αi<C会随\n",
    "着对其他变量的优化会有大的变化"
   ]
  },
  {
   "cell_type": "markdown",
   "metadata": {},
   "source": [
    "### 测试SVM"
   ]
  },
  {
   "cell_type": "code",
   "execution_count": 109,
   "metadata": {},
   "outputs": [],
   "source": [
    "#测试机的真实结果: 1,1,1,-1,-1,-1,-1,1,1,-1\n",
    "def testSVM():\n",
    "    result = []\n",
    "    dataMat, yMat=loadDataset(\"data/bloodTransfusion_noduplicated.txt\")\n",
    "    alphas, b = smo(dataMat, yMat, 200, 0.0001, 100, (\"rbf\", 20))\n",
    "    testData = [[2,50,12500,98],[0,13,3250,28],[1,16,4000,35],[1,24,6000,77],[4,4,1000,4]\n",
    "        ,[1,12,3000,35],[4,23,5750,58],[2,7,1750,14],[2,10,2500,28],[1,13,3250,47]]\n",
    "    m, n = shape(testData)\n",
    "    testmat = mat(testData)\n",
    "    for i in range(m):\n",
    "        kernelEval = transfer2Kernel(mat(dataMat), testmat[i, :], (\"rbf\", 20))\n",
    "        predict = kernelEval.T*multiply(mat(yMat).transpose(), alphas) + b\n",
    "        result.append((sign(predict)))\n",
    "    print(\"预测结果\", result)"
   ]
  },
  {
   "cell_type": "code",
   "execution_count": 110,
   "metadata": {},
   "outputs": [
    {
     "name": "stdout",
     "output_type": "stream",
     "text": [
      "预测结果 [matrix([[1.]]), matrix([[1.]]), matrix([[1.]]), matrix([[1.]]), matrix([[1.]]), matrix([[1.]]), matrix([[1.]]), matrix([[1.]]), matrix([[1.]]), matrix([[1.]])]\n"
     ]
    }
   ],
   "source": [
    "testSVM()"
   ]
  },
  {
   "cell_type": "code",
   "execution_count": 101,
   "metadata": {},
   "outputs": [],
   "source": [
    "from sklearn.svm import SVC\n",
    "dataMat = []\n",
    "yMat = []\n",
    "fr = open(\"data/bloodTransfusion_noduplicated.txt\")\n",
    "for line in fr.readlines():\n",
    "    line = line.strip().split(\",\")\n",
    "    dataMat.append([float(line[0]),float(line[1]),float(line[2]), float(line[3])])\n",
    "    yMat.append(float(line[4]))\n",
    "Xtrain = mat(dataMat)\n",
    "Ytain = mat(yMat)\n",
    "testData = [[2,50,12500,98],[0,13,3250,28],[1,16,4000,35],[1,24,6000,77],\n",
    "            [4,4,1000,4],[1,12,3000,35],[4,23,5750,58],[2,7,1750,14],\n",
    "            [2,10,2500,28],[1,13,3250,47]]"
   ]
  },
  {
   "cell_type": "code",
   "execution_count": 102,
   "metadata": {},
   "outputs": [
    {
     "data": {
      "text/plain": [
       "SVC(C=1.0, break_ties=False, cache_size=200, class_weight=None, coef0=0.0,\n",
       "    decision_function_shape='ovr', degree=3, gamma=20, kernel='rbf',\n",
       "    max_iter=-1, probability=False, random_state=None, shrinking=True,\n",
       "    tol=0.0001, verbose=False)"
      ]
     },
     "execution_count": 102,
     "metadata": {},
     "output_type": "execute_result"
    }
   ],
   "source": [
    "clf = SVC(gamma=20, tol=0.0001)\n",
    "clf.fit(dataMat, yMat)"
   ]
  },
  {
   "cell_type": "code",
   "execution_count": 103,
   "metadata": {},
   "outputs": [
    {
     "data": {
      "text/plain": [
       "array([ 1.,  1.,  1., -1., -1., -1., -1.,  1.,  1., -1.])"
      ]
     },
     "execution_count": 103,
     "metadata": {},
     "output_type": "execute_result"
    }
   ],
   "source": [
    "clf.predict(testData)"
   ]
  },
  {
   "cell_type": "code",
   "execution_count": 104,
   "metadata": {},
   "outputs": [
    {
     "data": {
      "text/plain": [
       "<bound method BaseSVC.decision_function of SVC(C=1.0, break_ties=False, cache_size=200, class_weight=None, coef0=0.0,\n",
       "    decision_function_shape='ovr', degree=3, gamma=20, kernel='rbf',\n",
       "    max_iter=-1, probability=False, random_state=None, shrinking=True,\n",
       "    tol=0.0001, verbose=False)>"
      ]
     },
     "execution_count": 104,
     "metadata": {},
     "output_type": "execute_result"
    }
   ],
   "source": [
    "clf.decision_function"
   ]
  },
  {
   "cell_type": "code",
   "execution_count": 105,
   "metadata": {},
   "outputs": [],
   "source": [
    "a = [0, 0]\n",
    "ds= [1, 5]"
   ]
  },
  {
   "cell_type": "code",
   "execution_count": 23,
   "metadata": {},
   "outputs": [
    {
     "data": {
      "text/plain": [
       "[1, 5]"
      ]
     },
     "execution_count": 23,
     "metadata": {},
     "output_type": "execute_result"
    }
   ],
   "source": []
  },
  {
   "cell_type": "code",
   "execution_count": null,
   "metadata": {},
   "outputs": [],
   "source": []
  }
 ],
 "metadata": {
  "kernelspec": {
   "display_name": "Python 3",
   "language": "python",
   "name": "python3"
  },
  "language_info": {
   "codemirror_mode": {
    "name": "ipython",
    "version": 3
   },
   "file_extension": ".py",
   "mimetype": "text/x-python",
   "name": "python",
   "nbconvert_exporter": "python",
   "pygments_lexer": "ipython3",
   "version": "3.6.5"
  }
 },
 "nbformat": 4,
 "nbformat_minor": 4
}
