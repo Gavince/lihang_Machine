{
 "cells": [
  {
   "cell_type": "markdown",
   "metadata": {},
   "source": [
    "### Maximum likehood function"
   ]
  },
  {
   "cell_type": "code",
   "execution_count": 2,
   "metadata": {},
   "outputs": [],
   "source": [
    "import numpy as np\n",
    "import math"
   ]
  },
  {
   "cell_type": "markdown",
   "metadata": {},
   "source": [
    "\n",
    "### E step:\n",
    "\n",
    "$$\\mu^{i+1}=\\frac{\\pi (p^i)^{y_i}(1-(p^i))^{1-y_i}}{\\pi (p^i)^{y_i}(1-(p^i))^{1-y_i}+(1-\\pi) (q^i)^{y_i}(1-(q^i))^{1-y_i}}$$"
   ]
  },
  {
   "cell_type": "markdown",
   "metadata": {},
   "source": [
    "### M step:\n",
    "\n",
    "$$\\pi^{i+1}=\\frac{1}{n}\\sum_{j=1}^n\\mu^{i+1}_j$$\n",
    "\n",
    "$$p^{i+1}=\\frac{\\sum_{j=1}^n\\mu^{i+1}_jy_i}{\\sum_{j=1}^n\\mu^{i+1}_j}$$\n",
    "\n",
    "$$q^{i+1}=\\frac{\\sum_{j=1}^n(1-\\mu^{i+1}_jy_i)}{\\sum_{j=1}^n(1-\\mu^{i+1}_j)}$$"
   ]
  },
  {
   "cell_type": "code",
   "execution_count": 129,
   "metadata": {},
   "outputs": [],
   "source": [
    "class EM:\n",
    "    \"\"\"\n",
    "    实现EM算法\n",
    "    \"\"\"\n",
    "    def __init__(self, prob):\n",
    "        self.pro_A, self.pro_B, self.pro_C = prob\n",
    "        \n",
    "    def pmf(self, i):\n",
    "        \"\"\"\n",
    "        计算Estep\n",
    "        \"\"\"\n",
    "        pro_1 = self.pro_A * math.pow(self.pro_B, data[i])*math.pow(\n",
    "        (1 - self.pro_B), (1-data[i]))\n",
    "        \n",
    "        pro_2 = (1 - self.pro_A)*math.pow(self.pro_C, data[i])*math.pow(\n",
    "        (1-self.pro_C), (1-data[i]))\n",
    "        \n",
    "        return pro_1/(pro_1+pro_2)\n",
    "    \n",
    "    def fit(self, data):\n",
    "        \"\"\"\n",
    "        寻找参数最优解\n",
    "        m-step\n",
    "        \"\"\"\n",
    "        count = len(data)\n",
    "        print(\"init value: pro_A = {}, pro_B = {}, pro_C = {}\".format(\n",
    "        self.pro_A, self.pro_B, self.pro_C\n",
    "        ))\n",
    "        #迭代d次\n",
    "        for d in range(count):\n",
    "            #1.计算所有的期望\n",
    "            _ = yield\n",
    "            _pmf = [self.pmf(k) for k in range(count)]\n",
    "            \n",
    "            pro_A = 1/count * sum(_pmf)\n",
    "            pro_B = sum([_pmf[k] * data[k] for k in range(count)])/sum(\n",
    "                [_pmf[k] for k in range(count)])\n",
    "            pro_C = sum([((1 - _pmf[k])*data[k]) for k in range(count)])/sum(\n",
    "                [(1-_pmf[k]) for k in range(count)])\n",
    "            \n",
    "            \n",
    "            self.pro_A = pro_A\n",
    "            self.pro_B = pro_B\n",
    "            self.pro_C = pro_C\n",
    "            print(\"Interiation:%d\" %(d+1))\n",
    "            print(\"Pro_A:%f, Pro_B:%f, Pro_C:%f\" % (self.pro_A, self.pro_B, self.pro_C))"
   ]
  },
  {
   "cell_type": "code",
   "execution_count": 130,
   "metadata": {},
   "outputs": [],
   "source": [
    "data = [1, 1, 0, 1, 0, 0, 1, 0, 1, 1]"
   ]
  },
  {
   "cell_type": "code",
   "execution_count": 131,
   "metadata": {},
   "outputs": [
    {
     "name": "stdout",
     "output_type": "stream",
     "text": [
      "init value: pro_A = 0.5, pro_B = 0.5, pro_C = 0.5\n"
     ]
    }
   ],
   "source": [
    "#参数一\n",
    "em = EM(prob=[0.5, 0.5, 0.5])\n",
    "f = em.fit(data)\n",
    "next(f)"
   ]
  },
  {
   "cell_type": "code",
   "execution_count": 132,
   "metadata": {},
   "outputs": [
    {
     "name": "stdout",
     "output_type": "stream",
     "text": [
      "Interiation:1\n",
      "Pro_A:0.500000, Pro_B:0.600000, Pro_C:0.600000\n"
     ]
    }
   ],
   "source": [
    "f.send(1)"
   ]
  },
  {
   "cell_type": "code",
   "execution_count": 133,
   "metadata": {},
   "outputs": [
    {
     "name": "stdout",
     "output_type": "stream",
     "text": [
      "Interiation:2\n",
      "Pro_A:0.500000, Pro_B:0.600000, Pro_C:0.600000\n"
     ]
    }
   ],
   "source": [
    "f.send(2)"
   ]
  },
  {
   "cell_type": "code",
   "execution_count": 134,
   "metadata": {},
   "outputs": [
    {
     "name": "stdout",
     "output_type": "stream",
     "text": [
      "Interiation:3\n",
      "Pro_A:0.500000, Pro_B:0.600000, Pro_C:0.600000\n"
     ]
    }
   ],
   "source": [
    "f.send(3)"
   ]
  },
  {
   "cell_type": "code",
   "execution_count": 135,
   "metadata": {},
   "outputs": [
    {
     "name": "stdout",
     "output_type": "stream",
     "text": [
      "Interiation:4\n",
      "Pro_A:0.500000, Pro_B:0.600000, Pro_C:0.600000\n"
     ]
    }
   ],
   "source": [
    "next(f)"
   ]
  },
  {
   "cell_type": "code",
   "execution_count": 154,
   "metadata": {},
   "outputs": [
    {
     "name": "stdout",
     "output_type": "stream",
     "text": [
      "init value: pro_A = 0.4, pro_B = 0.6, pro_C = 0.7\n"
     ]
    }
   ],
   "source": [
    "#参数二\n",
    "em = EM(prob=[0.4, .6, .7])\n",
    "f2 = em.fit(data)\n",
    "next(f2)"
   ]
  },
  {
   "cell_type": "code",
   "execution_count": 155,
   "metadata": {},
   "outputs": [
    {
     "name": "stdout",
     "output_type": "stream",
     "text": [
      "Interiation:1\n",
      "Pro_A:0.406417, Pro_B:0.536842, Pro_C:0.643243\n"
     ]
    }
   ],
   "source": [
    "next(f2)"
   ]
  },
  {
   "cell_type": "code",
   "execution_count": 162,
   "metadata": {},
   "outputs": [
    {
     "name": "stdout",
     "output_type": "stream",
     "text": [
      "Interiation:8\n",
      "Pro_A:0.406417, Pro_B:0.536842, Pro_C:0.643243\n"
     ]
    }
   ],
   "source": [
    "f2.send(9)"
   ]
  },
  {
   "cell_type": "markdown",
   "metadata": {},
   "source": [
    "### Python 迭代器知识点\n",
    "[知识点链接](https://blog.csdn.net/mieleizhi0522/article/details/82142856)"
   ]
  },
  {
   "cell_type": "code",
   "execution_count": 94,
   "metadata": {},
   "outputs": [],
   "source": [
    "def foo ():\n",
    "    \"\"\"\n",
    "    \"\"\"\n",
    "    print(\"starting...\")\n",
    "    while True:\n",
    "        res = yield 4\n",
    "        print(\"res:\",res)"
   ]
  },
  {
   "cell_type": "code",
   "execution_count": 103,
   "metadata": {},
   "outputs": [
    {
     "name": "stdout",
     "output_type": "stream",
     "text": [
      "starting...\n",
      "4\n",
      "********************\n",
      "res: None\n",
      "4\n",
      "####################\n",
      "res: None\n",
      "4\n"
     ]
    }
   ],
   "source": [
    "g = foo()\n",
    "print(next(g))\n",
    "print(\"*\"*20)\n",
    "print(next(g))\n",
    "print(\"#\"*20)\n",
    "print(next(g))"
   ]
  },
  {
   "cell_type": "code",
   "execution_count": 115,
   "metadata": {},
   "outputs": [
    {
     "name": "stdout",
     "output_type": "stream",
     "text": [
      "res: 1\n"
     ]
    },
    {
     "data": {
      "text/plain": [
       "4"
      ]
     },
     "execution_count": 115,
     "metadata": {},
     "output_type": "execute_result"
    }
   ],
   "source": [
    "#执行赋值操作\n",
    "g.send(1)"
   ]
  },
  {
   "cell_type": "code",
   "execution_count": 113,
   "metadata": {},
   "outputs": [
    {
     "name": "stdout",
     "output_type": "stream",
     "text": [
      "starting...\n",
      "1\n",
      "2\n",
      "3\n",
      "4\n",
      "5\n",
      "6\n",
      "7\n",
      "8\n",
      "9\n",
      "10\n"
     ]
    }
   ],
   "source": [
    "def foo(num):\n",
    "    print(\"starting...\")\n",
    "    while num<10:\n",
    "        num=num+1\n",
    "        yield num\n",
    "for n in foo(0):\n",
    "    print(n)"
   ]
  },
  {
   "cell_type": "code",
   "execution_count": 118,
   "metadata": {},
   "outputs": [],
   "source": [
    "for n in range(1000):\n",
    "    a=n"
   ]
  }
 ],
 "metadata": {
  "kernelspec": {
   "display_name": "Python 3",
   "language": "python",
   "name": "python3"
  },
  "language_info": {
   "codemirror_mode": {
    "name": "ipython",
    "version": 3
   },
   "file_extension": ".py",
   "mimetype": "text/x-python",
   "name": "python",
   "nbconvert_exporter": "python",
   "pygments_lexer": "ipython3",
   "version": "3.6.5"
  }
 },
 "nbformat": 4,
 "nbformat_minor": 2
}
