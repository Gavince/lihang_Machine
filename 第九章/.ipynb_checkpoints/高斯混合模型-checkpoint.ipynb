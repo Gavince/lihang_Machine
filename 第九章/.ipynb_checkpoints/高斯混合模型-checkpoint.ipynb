{
 "cells": [
  {
   "cell_type": "markdown",
   "metadata": {},
   "source": [
    "### 模拟2个正态分布的均值预计"
   ]
  },
  {
   "cell_type": "code",
   "execution_count": 2,
   "metadata": {},
   "outputs": [],
   "source": [
    "import math\n",
    "import copy\n",
    "import numpy as np \n",
    "import matplotlib.pyplot as plt"
   ]
  },
  {
   "cell_type": "code",
   "execution_count": 3,
   "metadata": {},
   "outputs": [],
   "source": [
    "isdebug = False"
   ]
  },
  {
   "cell_type": "code",
   "execution_count": 22,
   "metadata": {},
   "outputs": [],
   "source": [
    "#要给定一个初始值\n",
    "def init_data(Sigma, Mu1, Mu2, k, N):\n",
    "    \"\"\"\n",
    "    Sigma:均方差\n",
    "    mu1, mu2:各高斯模型的期望\n",
    "    k: 几个高斯模型\n",
    "    N: 数据量\n",
    "    \"\"\"\n",
    "    global X\n",
    "    global Mu\n",
    "    global Expectations#初始化期望\n",
    "    \n",
    "    X = np.zeros((1, N))\n",
    "    Mu = np.random.random(2)\n",
    "    Expectations = np.zeros((N, k))\n",
    "    \n",
    "    #制造数据分布\n",
    "    for i in range(0, N):\n",
    "        if np.random.random(1) > 0.5:\n",
    "            X[0, i] = np.random.normal()*Sigma + Mu1\n",
    "        else:\n",
    "            X[0, i] = np.random.normal()*Sigma + Mu2\n",
    "            \n",
    "#     print(\"初始化的数据 : {}\".format(X))\n",
    "    \n",
    "def e_step(Sigma, k, N):\n",
    "    \"\"\"\n",
    "    计算期望\n",
    "    \"\"\"\n",
    "    global Expectations\n",
    "    global Mu\n",
    "    global X\n",
    "    \n",
    "    for i in range(0, N):#遍历数据点\n",
    "        Denom = 0\n",
    "        #计算总和\n",
    "        for j in range(0, k):\n",
    "            Denom += math.exp((-1/(2 * float(Sigma**2)))*(float(X[0, i]-Mu[j])**2))\n",
    "        #计算部分\n",
    "        for j in range(0, k):\n",
    "            \n",
    "            Numer = math.exp((-1/(2 * float(Sigma**2)))*(float(X[0, i]-Mu[j])**2))\n",
    "            \n",
    "            Expectations[i, j] = Numer / Denom\n",
    "            \n",
    "#     print(\"期望: {}\".format(Expectations))\n",
    "    \n",
    "    \n",
    "def m_step(k, N):\n",
    "    \"\"\"\n",
    "    计算期望最大化参数\n",
    "    \"\"\"\n",
    "    global Expectations\n",
    "    global X\n",
    "    \n",
    "    for j in range(0, k):\n",
    "        Numer = 0\n",
    "        Denom = 0\n",
    "        for i in range(0, N):\n",
    "            Numer += Expectations[i, j] * X[0, i]\n",
    "            Denom += Expectations[i, j]\n",
    "        Mu[j] = Numer / Denom\n",
    "        \n",
    "        \n",
    "def run(Sigma, Mu1, Mu2, k, N, inter_num, Epsilon):\n",
    "    init_data(Sigma, Mu1, Mu2, k, N)\n",
    "    Ex1 = []\n",
    "    Ex2 = []\n",
    "    \n",
    "    for i in range(inter_num):\n",
    "        Old_Mu = copy.deepcopy(Mu)\n",
    "        e_step(Sigma, k, N)\n",
    "        m_step(k,N)\n",
    "        print(\"迭代 :{}, 期望 : {}\".format(i, Mu))\n",
    "        if sum(abs(Mu-Old_Mu)) < Epsilon:\n",
    "            \n",
    "            break\n",
    "            \n",
    "        Ex1.append(Mu[0])\n",
    "        Ex2.append(Mu[1])\n",
    "    return Ex1, Ex2, i"
   ]
  },
  {
   "cell_type": "code",
   "execution_count": 23,
   "metadata": {},
   "outputs": [
    {
     "name": "stdout",
     "output_type": "stream",
     "text": [
      "迭代 :0, 期望 : [29.47757759 30.02624226]\n",
      "迭代 :1, 期望 : [28.73131958 30.80427374]\n",
      "迭代 :2, 期望 : [26.07885426 33.46175264]\n",
      "迭代 :3, 期望 : [21.3509834  38.32967067]\n",
      "迭代 :4, 期望 : [19.95792498 39.93323802]\n",
      "迭代 :5, 期望 : [19.89745415 40.08421421]\n",
      "迭代 :6, 期望 : [19.90937127 40.10803524]\n",
      "迭代 :7, 期望 : [19.91595813 40.11554166]\n",
      "迭代 :8, 期望 : [19.91865462 40.11840391]\n",
      "迭代 :9, 期望 : [19.91972354 40.11952766]\n",
      "迭代 :10, 期望 : [19.92014549 40.11997063]\n",
      "迭代 :11, 期望 : [19.92031196 40.12014535]\n",
      "迭代 :12, 期望 : [19.92037763 40.12021427]\n",
      "迭代 :13, 期望 : [19.92040354 40.12024146]\n"
     ]
    },
    {
     "data": {
      "image/png": "[encoded data removed]",
      "text/plain": [
       "<Figure size 432x288 with 1 Axes>"
      ]
     },
     "metadata": {
      "needs_background": "light"
     },
     "output_type": "display_data"
    }
   ],
   "source": [
    "Ex1, Ex2, iter_num = run(6, 40, 20, 2, 1000, 1000, 0.0001)\n",
    "X_num = np.arange(0, iter_num, 1)\n",
    "plt.hist(X[0, :], 100)\n",
    "# plt.plot(X[0,:])\n",
    "plt.show()"
   ]
  },
  {
   "cell_type": "code",
   "execution_count": 24,
   "metadata": {},
   "outputs": [
    {
     "data": {
      "image/png": "[encoded data removed]",
      "text/plain": [
       "<Figure size 720x432 with 2 Axes>"
      ]
     },
     "metadata": {
      "needs_background": "light"
     },
     "output_type": "display_data"
    }
   ],
   "source": [
    "plt.figure(figsize=(10, 6))\n",
    "plt.subplot(121)\n",
    "plt.plot(X_num, Ex1)\n",
    "plt.xlabel(\"迭代\")\n",
    "plt.ylabel(\"期望\")\n",
    "plt.title(\"期望迭代图\")\n",
    "plt.savefig(\"Ex1\")\n",
    "\n",
    "plt.subplot(122)\n",
    "plt.plot(X_num, Ex2)\n",
    "plt.xlabel(\"迭代\")\n",
    "plt.ylabel(\"期望\")\n",
    "plt.title(\"期望迭代图\")\n",
    "plt.savefig(\"Ex2\")"
   ]
  },
  {
   "cell_type": "code",
   "execution_count": null,
   "metadata": {},
   "outputs": [],
   "source": []
  },
  {
   "cell_type": "code",
   "execution_count": null,
   "metadata": {},
   "outputs": [],
   "source": []
  },
  {
   "cell_type": "code",
   "execution_count": null,
   "metadata": {},
   "outputs": [],
   "source": []
  }
 ],
 "metadata": {
  "kernelspec": {
   "display_name": "Python 3",
   "language": "python",
   "name": "python3"
  },
  "language_info": {
   "codemirror_mode": {
    "name": "ipython",
    "version": 3
   },
   "file_extension": ".py",
   "mimetype": "text/x-python",
   "name": "python",
   "nbconvert_exporter": "python",
   "pygments_lexer": "ipython3",
   "version": "3.6.5"
  }
 },
 "nbformat": 4,
 "nbformat_minor": 2
}
