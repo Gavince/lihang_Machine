{
 "cells": [
  {
   "cell_type": "markdown",
   "metadata": {},
   "source": [
    "### 复习高斯混合模型"
   ]
  },
  {
   "cell_type": "code",
   "execution_count": 1,
   "metadata": {},
   "outputs": [],
   "source": [
    "import numpy as np\n",
    "import copy\n",
    "import math\n",
    "import matplotlib.pyplot as plt"
   ]
  },
  {
   "cell_type": "code",
   "execution_count": 39,
   "metadata": {},
   "outputs": [],
   "source": [
    "def init_data(Sigma1, Mu1, Mu2, k, N):\n",
    "    \"\"\"\n",
    "    初始化数据\n",
    "    \"\"\"\n",
    "    global X\n",
    "    global Mu\n",
    "    global Ex\n",
    "    \n",
    "    X = np.zeros((1, N))\n",
    "    Mu = np.random.random(2)\n",
    "    Ex = np.zeros((N, k))\n",
    "    \n",
    "    for i in range(0, N):\n",
    "        if np.random.random(1) > 0.5:\n",
    "            X[0, i] = np.random.normal()*Sigma1 + Mu1\n",
    "        else:\n",
    "            X[0, i] = np.random.normal()*Sigma1 + Mu2\n",
    "    print(len(X))    \n",
    "            \n",
    "def e_step(Sigma, k, N):\n",
    "    \"\"\"\n",
    "    计算期望\n",
    "    \"\"\"\n",
    "    global Ex\n",
    "    global Mu\n",
    "    global X\n",
    "    \n",
    "    for i in range(0, N):#遍历数据点\n",
    "        Denom = 0\n",
    "        #计算总和\n",
    "        for j in range(0, k):\n",
    "            Denom += math.exp((-1/(2 * float(Sigma**2)))*(float(X[0, i]-Mu[j])**2))\n",
    "        #计算部分\n",
    "        for j in range(0, k):\n",
    "            \n",
    "            Numer = math.exp((-1/(2 * float(Sigma**2)))*(float(X[0, i]-Mu[j])**2))\n",
    "            \n",
    "            Ex[i, j] = Numer / Denom\n",
    "            \n",
    "def m_step(k, N):\n",
    "    \"\"\"\n",
    "    计算期望最大化参数\n",
    "    \"\"\"\n",
    "    global Ex\n",
    "    global X\n",
    "    \n",
    "    for j in range(0, k):\n",
    "        Numer = 0\n",
    "        Denom = 0\n",
    "        for i in range(0, N):\n",
    "            Numer += Ex[i, j] * X[0, i]\n",
    "            Denom += Ex[i, j]\n",
    "        Mu[j] = Numer / Denom\n",
    "\n",
    "def run(Sigma, Mu1, Mu2, k, N, inter_num, Epsilon):\n",
    "    \"\"\"\n",
    "    迭代更新参数\n",
    "    \"\"\"\n",
    "    init_data(Sigma, Mu1, Mu2, k, N)\n",
    "\n",
    "    Ex1 = []\n",
    "    Ex2 = []\n",
    "    \n",
    "    \n",
    "    for i in range(inter_num):\n",
    "        old_mu = copy.deepcopy(Mu)\n",
    "        e_step(Sigma, k, N)\n",
    "        m_step(k, N)\n",
    "        print(\"迭代 :{}, 期望 : {}\".format(i, Mu))\n",
    "        if sum(abs(old_mu - Mu)<Epsilon):\n",
    "            break\n",
    "            \n",
    "        Ex1.append(Mu[0])\n",
    "        Ex2.append(Mu[1])\n",
    "    return Ex1, Ex2, i"
   ]
  },
  {
   "cell_type": "code",
   "execution_count": 40,
   "metadata": {},
   "outputs": [
    {
     "name": "stdout",
     "output_type": "stream",
     "text": [
      "1\n",
      "迭代 :0, 期望 : [29.94893687 30.25728548]\n",
      "迭代 :1, 期望 : [29.49409219 30.72182595]\n",
      "迭代 :2, 期望 : [27.71984903 32.49590307]\n",
      "迭代 :3, 期望 : [22.91765536 37.28841028]\n",
      "迭代 :4, 期望 : [19.96464446 40.27005141]\n",
      "迭代 :5, 期望 : [19.7148747  40.55016792]\n",
      "迭代 :6, 期望 : [19.70825468 40.56879444]\n",
      "迭代 :7, 期望 : [19.70983706 40.5715577 ]\n",
      "迭代 :8, 期望 : [19.71058255 40.57236937]\n",
      "迭代 :9, 期望 : [19.71085744 40.57265177]\n",
      "迭代 :10, 期望 : [19.71095617 40.57275245]\n"
     ]
    }
   ],
   "source": [
    "ex1, ex1, i= run(6, 40, 20, 2, 1000, 1000, 0.0001)\n"
   ]
  },
  {
   "cell_type": "code",
   "execution_count": 1,
   "metadata": {},
   "outputs": [],
   "source": [
    "import math \n",
    "import copy \n",
    "import numpy as np\n",
    "import matplotlib.pyplot as plt"
   ]
  },
  {
   "cell_type": "code",
   "execution_count": 13,
   "metadata": {},
   "outputs": [],
   "source": [
    "def init_data(Sigma, Mu1, Mu2, k, N):\n",
    "    \"\"\"初始化数据\"\"\"\n",
    "    \n",
    "    global X\n",
    "    global Mu\n",
    "    global Expections\n",
    "    \n",
    "    X = np.zeros((1, N))\n",
    "    Mu = np.random.random(2)\n",
    "    Expections = np.zeros((N, k))\n",
    "    \n",
    "    for i in range(0, N):\n",
    "        if np.random.random(1) > 0.5:\n",
    "            X[0, i] = np.random.normal()*Sigma + Mu1\n",
    "        else:\n",
    "            X[0, i] = np.random.normal()*Sigma + Mu2\n",
    "\n",
    "            \n",
    "def e_step(Sigma, k, N):\n",
    "    \"\"\"\"\"\"\n",
    "    global X\n",
    "    global Mu\n",
    "    global Expections\n",
    "    \n",
    "    for i in range(0, N):\n",
    "        Denom = 0\n",
    "        for j in range(0, k):\n",
    "            Denom += math.exp((-1/(2*float(Sigma**2)))*(float(X[0,i]- Mu[j])**2))\n",
    "        for j in range(0, k):\n",
    "            Numer = math.exp((-1/(2*float(Sigma**2))) *(float(X[0,i]- Mu[j])**2))\n",
    "           \n",
    "            Expections[i, j] = Numer/Denom\n",
    "        \n",
    "def m_step(k, N):\n",
    "\n",
    "    global Expectations\n",
    "    global X\n",
    "    \n",
    "    for j in range(k):\n",
    "        Numer = 0\n",
    "        Denom = 0\n",
    "        \n",
    "        for i in range(N):\n",
    "            Numer += Expections[i, j] * X[0, i]\n",
    "            Denom += Expections[i, j]\n",
    "            \n",
    "        Mu[j] = Numer/Denom\n",
    "    \n",
    "def run(Sigma, Mu1, Mu2, k, N, inter_num, Epsilon):\n",
    "    \"\"\"\"\"\"\n",
    "    init_data(Sigma, Mu1, Mu2, k, N)\n",
    "    Ex1 = []\n",
    "    Ex2 = []\n",
    "    for i in range(inter_num):\n",
    "        Old_Mu = copy.deepcopy(Mu)\n",
    "        e_step(Sigma, k, N)\n",
    "        m_step(k,N)\n",
    "        print(\"迭代 :{}, 期望 : {}\".format(i, Mu))\n",
    "        if sum(abs(Mu-Old_Mu)) < Epsilon:\n",
    "\n",
    "            break\n",
    "\n",
    "        Ex1.append(Mu[0])\n",
    "        Ex2.append(Mu[1])\n",
    "        \n",
    "    return Ex1, Ex2, i     "
   ]
  },
  {
   "cell_type": "code",
   "execution_count": 14,
   "metadata": {},
   "outputs": [
    {
     "name": "stdout",
     "output_type": "stream",
     "text": [
      "迭代 :0, 期望 : [29.00292166 30.64019352]\n",
      "迭代 :1, 期望 : [26.90429165 33.00291415]\n",
      "迭代 :2, 期望 : [22.05957901 37.9458841 ]\n",
      "迭代 :3, 期望 : [20.14850655 40.13214608]\n",
      "迭代 :4, 期望 : [20.07030296 40.37837093]\n",
      "迭代 :5, 期望 : [20.09589422 40.42468221]\n",
      "迭代 :6, 期望 : [20.10934022 40.44072046]\n",
      "迭代 :7, 期望 : [20.1149777  40.44710843]\n",
      "迭代 :8, 期望 : [20.11728375 40.44970301]\n",
      "迭代 :9, 期望 : [20.11822394 40.45075958]\n",
      "迭代 :10, 期望 : [20.11860706 40.45119   ]\n",
      "迭代 :11, 期望 : [20.11876315 40.45136536]\n",
      "迭代 :12, 期望 : [20.11882675 40.4514368 ]\n",
      "迭代 :13, 期望 : [20.11885266 40.45146591]\n"
     ]
    },
    {
     "data": {
      "image/png": "[encoded data removed]",
      "text/plain": [
       "<Figure size 432x288 with 1 Axes>"
      ]
     },
     "metadata": {
      "needs_background": "light"
     },
     "output_type": "display_data"
    }
   ],
   "source": [
    "\n",
    "if __name__ == \"__main__\":\n",
    "    Ex1, Ex2, iter_num = run(6, 40, 20, 2, 1000, 1000, 0.0001)\n",
    "    X_num = np.arange(0, iter_num, 1)\n",
    "    plt.hist(X[0, :], 100)\n",
    "    # plt.plot(X[0,:])\n",
    "    plt.savefig(\"高斯混合模型1\")\n",
    "    plt.show() "
   ]
  },
  {
   "cell_type": "code",
   "execution_count": 15,
   "metadata": {},
   "outputs": [
    {
     "data": {
      "image/png": "[encoded data removed]",
      "text/plain": [
       "<Figure size 720x432 with 2 Axes>"
      ]
     },
     "metadata": {
      "needs_background": "light"
     },
     "output_type": "display_data"
    }
   ],
   "source": [
    "plt.figure(figsize=(10, 6))\n",
    "plt.subplot(121)\n",
    "plt.plot(X_num, Ex1)\n",
    "plt.xlabel(\"迭代\")\n",
    "plt.ylabel(\"期望\")\n",
    "plt.title(\"期望迭代图\")\n",
    "plt.savefig(\"Ex1\")\n",
    "\n",
    "plt.subplot(122)\n",
    "plt.plot(X_num, Ex2)\n",
    "plt.xlabel(\"迭代\")\n",
    "plt.ylabel(\"期望\")\n",
    "plt.title(\"期望迭代图\")\n",
    "plt.savefig(\"Ex2\");"
   ]
  },
  {
   "cell_type": "code",
   "execution_count": null,
   "metadata": {},
   "outputs": [],
   "source": []
  },
  {
   "cell_type": "code",
   "execution_count": null,
   "metadata": {},
   "outputs": [],
   "source": []
  },
  {
   "cell_type": "code",
   "execution_count": null,
   "metadata": {},
   "outputs": [],
   "source": []
  },
  {
   "cell_type": "code",
   "execution_count": null,
   "metadata": {},
   "outputs": [],
   "source": []
  },
  {
   "cell_type": "code",
   "execution_count": null,
   "metadata": {},
   "outputs": [],
   "source": []
  },
  {
   "cell_type": "code",
   "execution_count": null,
   "metadata": {},
   "outputs": [],
   "source": []
  }
 ],
 "metadata": {
  "kernelspec": {
   "display_name": "Python 3",
   "language": "python",
   "name": "python3"
  },
  "language_info": {
   "codemirror_mode": {
    "name": "ipython",
    "version": 3
   },
   "file_extension": ".py",
   "mimetype": "text/x-python",
   "name": "python",
   "nbconvert_exporter": "python",
   "pygments_lexer": "ipython3",
   "version": "3.6.5"
  }
 },
 "nbformat": 4,
 "nbformat_minor": 2
}
