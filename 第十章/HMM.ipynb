{
 "cells": [
  {
   "cell_type": "markdown",
   "metadata": {},
   "source": [
    "## HMM算法"
   ]
  },
  {
   "cell_type": "code",
   "execution_count": 1,
   "metadata": {},
   "outputs": [],
   "source": [
    "import numpy as np"
   ]
  },
  {
   "cell_type": "code",
   "execution_count": 31,
   "metadata": {},
   "outputs": [],
   "source": [
    "#0.初始化数据\n",
    "Q = [1, 2, 3]\n",
    "V = ['红', '白']\n",
    "\n",
    "A = [[0.5, 0.2, 0.3],\n",
    "    [0.3, 0.5, 0.2],\n",
    "    [0.2, 0.3, 0.5]]\n",
    "\n",
    "B = [[0.5, 0.5],\n",
    "    [0.4, 0.6],\n",
    "    [0.7, 0.3]]\n",
    "O = ['红', '白', '红' ]\n",
    "pi = [[0.2, 0.4, 0.4]]"
   ]
  },
  {
   "cell_type": "code",
   "execution_count": 32,
   "metadata": {},
   "outputs": [],
   "source": [
    "class HiddenMarkov:\n",
    "    def forward(self, Q, V, A, B, O, PI):\n",
    "        \"\"\"\n",
    "        计算:p(o|lambda)\n",
    "        \"\"\"\n",
    "        N = len(Q)  # 计算状态总数\n",
    "        M = len(O)  # 计算观测总数\n",
    "        \n",
    "        alphas = np.zeros((N, M))  # 初始化空的alpha矩阵,每一个时刻都会有一个具体的观测变量\n",
    "        T = M\n",
    "        \n",
    "        for t in range(T):  # 遍历所有时间节点来进行计算\n",
    "            #  0.取得对应时刻观测序列的index\n",
    "            indexOfO = V.index(O[t])\n",
    "            #  1.初始化t=0时刻的alpha\n",
    "            for i in range(N):\n",
    "                if t == 0:\n",
    "                    alphas[i][t] = PI[t][i] * B[i][indexOfO]  # i状态时刻所对应的观测量值\n",
    "                \n",
    "                    print(\"初始化状态的alpha: \\n\",alphas)\n",
    "                else: \n",
    "                    alphas[i][t] = np.dot([alpha[t-1] for alpha in alphas],\n",
    "                                         [a[i] for a in A] )* B[i][indexOfO]\n",
    "                    \n",
    "        \n",
    "            \n",
    "        p = np.sum([alpha[M-1] for alpha in alphas])  # 取得最后一个alpha序列\n",
    "        print(\"Alphas矩阵:\\n\", alphas)\n",
    "        print(\"A:\\n\", A)\n",
    "        print(\"概率值为多少: \", p)\n",
    "        \n",
    "    def backward(self, Q, V, A, B, O, PI):\n",
    "        \"\"\"\n",
    "        后项算法\n",
    "        \"\"\"\n",
    "        N = len(Q)\n",
    "        M = len(O)\n",
    "        time = []\n",
    "        \n",
    "        betas = np.ones((N, M))\n",
    "        \n",
    "        for t in range(M-2, -1, -1):\n",
    "            time.append(t)#记录时间序列\n",
    "            indexOfO = V.index(O[t+1])#记录上一时刻的观测值\n",
    "            \n",
    "            for i in range(N):\n",
    "                betas[i][t] = np.dot(\n",
    "                np.multiply(A[i],[b[indexOfO] for b in B]),\n",
    "                [beta[t+1] for beta in betas]\n",
    "                )\n",
    "                \n",
    "        indexOfO = V.index(O[0])\n",
    "        P = np.dot(np.multiply(PI, [b[indexOfO] for b in B]),\n",
    "                  [beta[0] for beta in betas])#最后时刻的beta1\n",
    "        print(\"观测序列值：\",time)\n",
    "        print(\"后项算法的概率值Ｐ：\", P)\n",
    "        print(\"Beta矩阵：\\n\", betas)\n",
    "        \n",
    "    def viterbi(self, Q, V, A, B, O, PI):\n",
    "        \"\"\"\n",
    "        维特比算法：通过观测变量推测隐藏变量的值\n",
    "        \"\"\"\n",
    "        #  0. 初始化数据\n",
    "        N = len(Q)\n",
    "        M = len(O)\n",
    "        deltas = np.zeros((N, M))\n",
    "        psis = np.zeros((N, M))\n",
    "        I = np.zeros((1, M))\n",
    "        \n",
    "        for t in range(M):\n",
    "            realT = t + 1\n",
    "            indexOfO = V.index(O[t])  # 读取状态索引\n",
    "            for i in range(N):\n",
    "                realI = i + 1\n",
    "        #  1. 初始化\n",
    "                if t == 0:\n",
    "                    deltas[i][t] = PI[0][i] * B[i][indexOfO]\n",
    "                    psis[i][t] = 0\n",
    "                \n",
    "                else:\n",
    "        #　２．递推\n",
    "                    deltas[i][t] = np.max(\n",
    "                    np.multiply([delta[t-1] for delta in deltas],\n",
    "                               [a[i] for a in A])) * B[i][indexOfO]\n",
    "                    \n",
    "                    psis[i][t] = np.argmax(np.multiply([\n",
    "                        delta[t - 1] for delta in deltas\n",
    "                    ], [a[i] for a in A])) + 1 #返回索引值从零开始\n",
    "                    \n",
    "                    \n",
    "                    \n",
    "        #  3.终止条件\n",
    "        I[0][M-1] = np.argmax([delta[M-1] for delta in deltas]) + 1\n",
    "        \n",
    "        #  4.选择路径．．\n",
    "        for t in range(M-2, -1, -1):\n",
    "            I[0][t] = psis[int(I[0][t+1]) -1][t + 1]#行数为所取得值（上一个状态的值, 列数为时间序列，＂Ｉ[0][t+1] - 1＂ 下标从零开始）\n",
    "            print(\"行数：\", (I[0][t+1]-1))\n",
    "            print(\"列数：\", (t+1))\n",
    "            \n",
    "        print(\"psis:\", psis)    \n",
    "        print(\"状态序列Ｉ:\",I)  "
   ]
  },
  {
   "cell_type": "markdown",
   "metadata": {},
   "source": [
    "### (1) 前向算法"
   ]
  },
  {
   "cell_type": "code",
   "execution_count": 33,
   "metadata": {},
   "outputs": [
    {
     "name": "stdout",
     "output_type": "stream",
     "text": [
      "初始化状态的alpha: \n",
      " [[0.1 0.  0. ]\n",
      " [0.  0.  0. ]\n",
      " [0.  0.  0. ]]\n",
      "初始化状态的alpha: \n",
      " [[0.1  0.   0.  ]\n",
      " [0.16 0.   0.  ]\n",
      " [0.   0.   0.  ]]\n",
      "初始化状态的alpha: \n",
      " [[0.1  0.   0.  ]\n",
      " [0.16 0.   0.  ]\n",
      " [0.28 0.   0.  ]]\n",
      "Alphas矩阵:\n",
      " [[0.1      0.077    0.04187 ]\n",
      " [0.16     0.1104   0.035512]\n",
      " [0.28     0.0606   0.052836]]\n",
      "A:\n",
      " [[0.5, 0.2, 0.3], [0.3, 0.5, 0.2], [0.2, 0.3, 0.5]]\n",
      "概率值为多少:  0.130218\n"
     ]
    }
   ],
   "source": [
    "HMM = HiddenMarkov()\n",
    "HMM.forward(Q, V, A, B, O, pi)"
   ]
  },
  {
   "cell_type": "markdown",
   "metadata": {},
   "source": [
    "### (2)后向算法"
   ]
  },
  {
   "cell_type": "code",
   "execution_count": 34,
   "metadata": {},
   "outputs": [
    {
     "name": "stdout",
     "output_type": "stream",
     "text": [
      "观测序列值： [1, 0]\n",
      "后项算法的概率值Ｐ： [0.130218]\n",
      "Beta矩阵：\n",
      " [[0.2451 0.54   1.    ]\n",
      " [0.2622 0.49   1.    ]\n",
      " [0.2277 0.57   1.    ]]\n"
     ]
    }
   ],
   "source": [
    "HMM.backward(Q, V, A, B, O, pi)\n"
   ]
  },
  {
   "cell_type": "markdown",
   "metadata": {},
   "source": [
    "### (3)维特比算法"
   ]
  },
  {
   "cell_type": "code",
   "execution_count": 35,
   "metadata": {},
   "outputs": [
    {
     "name": "stdout",
     "output_type": "stream",
     "text": [
      "行数： 2.0\n",
      "列数： 2\n",
      "行数： 2.0\n",
      "列数： 1\n",
      "psis: [[0. 3. 2.]\n",
      " [0. 3. 2.]\n",
      " [0. 3. 3.]]\n",
      "状态序列Ｉ: [[3. 3. 3.]]\n"
     ]
    }
   ],
   "source": [
    "HMM.viterbi(Q, V, A, B, O, pi)"
   ]
  },
  {
   "cell_type": "markdown",
   "metadata": {},
   "source": [
    "### 例题10.2"
   ]
  },
  {
   "cell_type": "code",
   "execution_count": 36,
   "metadata": {},
   "outputs": [],
   "source": [
    "Q = [1, 2, 3]\n",
    "V = ['红', '白']\n",
    "A = [[0.5, 0.2, 0.3], [0.3, 0.5, 0.2], [0.2, 0.3, 0.5]]\n",
    "B = [[0.5, 0.5], [0.4, 0.6], [0.7, 0.3]]\n",
    "O = ['红', '白', '红', '红', '白', '红', '白', '白']\n",
    "PI = [[0.2, 0.3, 0.5]]"
   ]
  },
  {
   "cell_type": "code",
   "execution_count": 37,
   "metadata": {},
   "outputs": [
    {
     "name": "stdout",
     "output_type": "stream",
     "text": [
      "初始化状态的alpha: \n",
      " [[0.1 0.  0.  0.  0.  0.  0.  0. ]\n",
      " [0.  0.  0.  0.  0.  0.  0.  0. ]\n",
      " [0.  0.  0.  0.  0.  0.  0.  0. ]]\n",
      "初始化状态的alpha: \n",
      " [[0.1  0.   0.   0.   0.   0.   0.   0.  ]\n",
      " [0.12 0.   0.   0.   0.   0.   0.   0.  ]\n",
      " [0.   0.   0.   0.   0.   0.   0.   0.  ]]\n",
      "初始化状态的alpha: \n",
      " [[0.1  0.   0.   0.   0.   0.   0.   0.  ]\n",
      " [0.12 0.   0.   0.   0.   0.   0.   0.  ]\n",
      " [0.35 0.   0.   0.   0.   0.   0.   0.  ]]\n",
      "Alphas矩阵:\n",
      " [[0.1        0.078      0.04302    0.0218541  0.01146343 0.00576595\n",
      "  0.0028617  0.00141148]\n",
      " [0.12       0.111      0.036684   0.0174942  0.01394714 0.00467612\n",
      "  0.00338859 0.00169797]\n",
      " [0.35       0.0687     0.055965   0.03375771 0.00808018 0.00718798\n",
      "  0.0018777  0.00074252]]\n",
      "A:\n",
      " [[0.5, 0.2, 0.3], [0.3, 0.5, 0.2], [0.2, 0.3, 0.5]]\n",
      "概率值为多少:  0.0038519735794910995\n"
     ]
    }
   ],
   "source": [
    "HMM.forward(Q, V, A, B, O, PI)"
   ]
  },
  {
   "cell_type": "code",
   "execution_count": 38,
   "metadata": {},
   "outputs": [
    {
     "name": "stdout",
     "output_type": "stream",
     "text": [
      "观测序列值： [6, 5, 4, 3, 2, 1, 0]\n",
      "后项算法的概率值Ｐ： [0.00385197]\n",
      "Beta矩阵：\n",
      " [[0.00698005 0.01543889 0.02836522 0.05320483 0.116032   0.2149\n",
      "  0.46       1.        ]\n",
      " [0.00741132 0.01370579 0.02649512 0.05776176 0.110117   0.2478\n",
      "  0.51       1.        ]\n",
      " [0.00647031 0.01639589 0.02965701 0.04972891 0.122031   0.2023\n",
      "  0.43       1.        ]]\n"
     ]
    }
   ],
   "source": [
    "HMM.backward(Q, V, A, B, O, PI)"
   ]
  }
 ],
 "metadata": {
  "kernelspec": {
   "display_name": "Python 3",
   "language": "python",
   "name": "python3"
  },
  "language_info": {
   "codemirror_mode": {
    "name": "ipython",
    "version": 3
   },
   "file_extension": ".py",
   "mimetype": "text/x-python",
   "name": "python",
   "nbconvert_exporter": "python",
   "pygments_lexer": "ipython3",
   "version": "3.6.5"
  }
 },
 "nbformat": 4,
 "nbformat_minor": 2
}
