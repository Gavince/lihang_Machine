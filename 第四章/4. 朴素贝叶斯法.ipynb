{
 "cells": [
  {
   "cell_type": "markdown",
   "metadata": {},
   "source": [
    "### 07.19 晴天　心情好"
   ]
  },
  {
   "cell_type": "markdown",
   "metadata": {},
   "source": [
    "\n",
    "### 1. Iris 数据集学习"
   ]
  },
  {
   "cell_type": "code",
   "execution_count": 8,
   "metadata": {},
   "outputs": [
    {
     "name": "stdout",
     "output_type": "stream",
     "text": [
      "(150, 4)\n"
     ]
    }
   ],
   "source": [
    "from sklearn import datasets\n",
    "iris = datasets.load_iris()\n",
    "\n",
    "print(iris.data.shape)"
   ]
  },
  {
   "cell_type": "code",
   "execution_count": 9,
   "metadata": {},
   "outputs": [
    {
     "name": "stdout",
     "output_type": "stream",
     "text": [
      "[[5.1 3.5 1.4 0.2]\n",
      " [4.9 3.  1.4 0.2]\n",
      " [4.7 3.2 1.3 0.2]\n",
      " [4.6 3.1 1.5 0.2]\n",
      " [5.  3.6 1.4 0.2]]\n"
     ]
    }
   ],
   "source": [
    "#输出数据全部\n",
    "#print(iris.data[:])\n",
    "print(iris.data[:5])"
   ]
  },
  {
   "cell_type": "code",
   "execution_count": 14,
   "metadata": {},
   "outputs": [
    {
     "name": "stdout",
     "output_type": "stream",
     "text": [
      "[0 0 0 0 0 0 0 0 0 0 0 0 0 0 0 0 0 0 0 0 0 0 0 0 0 0 0 0 0 0 0 0 0 0 0 0 0\n",
      " 0 0 0 0 0 0 0 0 0 0 0 0 0 1 1 1 1 1 1 1 1 1 1 1 1 1 1 1 1 1 1 1 1 1 1 1 1\n",
      " 1 1 1 1 1 1 1 1 1 1 1 1 1 1 1 1 1 1 1 1 1 1 1 1 1 1 2 2 2 2 2 2 2 2 2 2 2\n",
      " 2 2 2 2 2 2 2 2 2 2 2 2 2 2 2 2 2 2 2 2 2 2 2 2 2 2 2 2 2 2 2 2 2 2 2 2 2\n",
      " 2 2]\n",
      "['setosa' 'versicolor' 'virginica']\n",
      "['sepal length (cm)', 'sepal width (cm)', 'petal length (cm)', 'petal width (cm)']\n"
     ]
    }
   ],
   "source": [
    "print(iris.target.view())\n",
    "print(iris.target_names)\n",
    "print(iris.feature_names)"
   ]
  },
  {
   "cell_type": "markdown",
   "metadata": {},
   "source": [
    "### 2. 算法实践"
   ]
  },
  {
   "cell_type": "code",
   "execution_count": 36,
   "metadata": {},
   "outputs": [],
   "source": [
    "import numpy as np\n",
    "import pandas as pd\n",
    "import matplotlib.pyplot as plt\n",
    "%matplotlib inline\n",
    "\n",
    "from sklearn.datasets import load_iris\n",
    "from sklearn.model_selection import train_test_split\n",
    "\n",
    "from collections import Counter\n",
    "import math\n",
    "\n",
    "# data\n",
    "def creat_data():\n",
    "    iris = load_iris()\n",
    "    df = pd.DataFrame(iris.data, columns=iris.feature_names)\n",
    "    df[\"label\"] = iris.target\n",
    "    df.columns = [\"sepal length\", \"sepal width\", \"petal length\",\"petal width\", \"label\"]\n",
    "    print(df.shape)\n",
    "    data = np.array(df.iloc[:100, :])#加载数据集前100个　标签为0,1\n",
    "    #print(data)\n",
    "    return data[:, :-1], data[:, -1]#返回标数据和标签\n",
    "\n",
    "X, y = creat_data()\n",
    "#随机分离数据集函数\n",
    "X_train, X_test, y_train, y_test = train_test_split(X, y, test_size=0.3)\n"
   ]
  },
  {
   "cell_type": "code",
   "execution_count": 56,
   "metadata": {},
   "outputs": [
    {
     "data": {
      "text/plain": [
       "(array([5.5, 2.4, 3.8, 1.1]), 1.0)"
      ]
     },
     "execution_count": 56,
     "metadata": {},
     "output_type": "execute_result"
    }
   ],
   "source": [
    "#查看数据集\n",
    "X_test[0], y_test[0]"
   ]
  },
  {
   "cell_type": "code",
   "execution_count": 146,
   "metadata": {},
   "outputs": [],
   "source": [
    "class NaiveBayes:\n",
    "    \n",
    "    def __init__(self):\n",
    "        self.model = None\n",
    "        \n",
    "    #数学期望\n",
    "    @staticmethod\n",
    "    def mean(X):\n",
    "        return sum(X)/float(len(X))\n",
    "    \n",
    "    #标准差\n",
    "    def stdev(self, X):\n",
    "        avg = self.mean(X)\n",
    "        return math.sqrt(sum([pow(x-avg, 2) for x in X])/float(len(X)))\n",
    "        \n",
    "    #概率密度函数\n",
    "    def gaussian_probability(self, x, mean, stdev):\n",
    "        exponent = math.exp(-(math.pow(x- mean, 2)/(2*math.pow(stdev, 2))))\n",
    "        \n",
    "        return 1 / math.sqrt(2*math.pi*math.pow(stdev, 2))*exponent\n",
    "    \n",
    "    #处理X_train数据,得到列向量的均值和方差\n",
    "    def summarize(self, train_data):\n",
    "        #print(train_data)\n",
    "#         for i in zip(*train_data):\n",
    "#             print(i)\n",
    "        summaries = [(self.mean(i), self.stdev(i)) for i in zip(*train_data)]#取出每一个数行的z\n",
    "        #print(summaries)\n",
    "        return summaries\n",
    "    \n",
    "    #分别求出期望和方差\n",
    "    def fit(self, X, y):\n",
    "        labels = list(set(y))#set()构建一个不重复的集合\n",
    "        print(\"labels:\",labels)\n",
    "        #封装数据为为字典\n",
    "        data = {label : [] for label in labels}\n",
    "        \n",
    "        for f, label in zip(X, y): \n",
    "            data[label].append(f)#添加数据字典\n",
    "            \n",
    "        self.model = {\n",
    "            label: self.summarize(value) for label, value in data.items()\n",
    "        }\n",
    "        print(\"model:\", self.model)\n",
    "        return 'gaussian NB train done!'\n",
    "    \n",
    "    #计算概率\n",
    "    def calculate_probabilities(self, input_data):\n",
    "        probabilities = {}\n",
    "        for label,value in self.model.items():\n",
    "            probabilities[label]=1#保证非零\n",
    "            print(\"value:\", value)\n",
    "            for i in range(len(value)):\n",
    "                #print(i,\" : \",value[i])\n",
    "                mean, stdev = value[i]\n",
    "                probabilities[label] *= self.gaussian_probability(\n",
    "                input_data[i], mean, stdev)\n",
    "          \n",
    "        print(\"可能:\",probabilities)\n",
    "        return probabilities\n",
    "\n",
    "    # 类别\n",
    "    def predict(self, X_test):\n",
    "        # {0.0: 2.9680340789325763e-27, 1.0: 3.5749783019849535e-26}\n",
    "        label = sorted(\n",
    "            self.calculate_probabilities(X_test).items(),\n",
    "            key=lambda x: x[-1])[-1][0]\n",
    "        return label\n",
    "\n",
    "    def score(self, X_test, y_test):\n",
    "        right = 0\n",
    "        for X, y in zip(X_test, y_test):\n",
    "          \n",
    "            label = self.predict(X)  \n",
    "            print(\"label:\",label)\n",
    "            print(\"True:\", y)\n",
    "            if label == y:\n",
    "                right += 1\n",
    "\n",
    "\n",
    "                return right / float(len(X_test))"
   ]
  },
  {
   "cell_type": "code",
   "execution_count": 147,
   "metadata": {},
   "outputs": [],
   "source": [
    "model = NaiveBayes()"
   ]
  },
  {
   "cell_type": "code",
   "execution_count": 148,
   "metadata": {},
   "outputs": [
    {
     "name": "stdout",
     "output_type": "stream",
     "text": [
      "labels: [0.0, 1.0]\n",
      "model: {0.0: [(5.0, 0.364887458187942), (3.4371428571428573, 0.30899441907647485), (1.465714285714286, 0.17061712716381275), (0.2371428571428572, 0.10713333291001527)], 1.0: [(5.902857142857142, 0.4999918366680539), (2.777142857142857, 0.2928536585158575), (4.2457142857142856, 0.4776985643346094), (1.3228571428571425, 0.19432772655007943)]}\n"
     ]
    },
    {
     "data": {
      "text/plain": [
       "'gaussian NB train done!'"
      ]
     },
     "execution_count": 148,
     "metadata": {},
     "output_type": "execute_result"
    }
   ],
   "source": [
    "model.fit(X_train, y_train)"
   ]
  },
  {
   "cell_type": "code",
   "execution_count": 149,
   "metadata": {},
   "outputs": [
    {
     "name": "stdout",
     "output_type": "stream",
     "text": [
      "value: [(5.0, 0.364887458187942), (3.4371428571428573, 0.30899441907647485), (1.465714285714286, 0.17061712716381275), (0.2371428571428572, 0.10713333291001527)]\n",
      "value: [(5.902857142857142, 0.4999918366680539), (2.777142857142857, 0.2928536585158575), (4.2457142857142856, 0.4776985643346094), (1.3228571428571425, 0.19432772655007943)]\n",
      "可能: {0.0: 1.391870274889773, 1.0: 2.232200710682964e-18}\n",
      "0.0\n"
     ]
    }
   ],
   "source": [
    "print(model.predict([4.4, 3.2, 1.3, 0.2]))"
   ]
  },
  {
   "cell_type": "code",
   "execution_count": 150,
   "metadata": {},
   "outputs": [
    {
     "name": "stdout",
     "output_type": "stream",
     "text": [
      "value: [(5.0, 0.364887458187942), (3.4371428571428573, 0.30899441907647485), (1.465714285714286, 0.17061712716381275), (0.2371428571428572, 0.10713333291001527)]\n",
      "value: [(5.902857142857142, 0.4999918366680539), (2.777142857142857, 0.2928536585158575), (4.2457142857142856, 0.4776985643346094), (1.3228571428571425, 0.19432772655007943)]\n",
      "可能: {0.0: 3.189024994637145e-57, 1.0: 0.1970620443735743}\n",
      "label: 1.0\n",
      "True: 1.0\n"
     ]
    },
    {
     "data": {
      "text/plain": [
       "0.03333333333333333"
      ]
     },
     "execution_count": 150,
     "metadata": {},
     "output_type": "execute_result"
    }
   ],
   "source": [
    "model.score(X_test, y_test)"
   ]
  },
  {
   "cell_type": "markdown",
   "metadata": {},
   "source": [
    "### 3. scikit-learn实例\n"
   ]
  },
  {
   "cell_type": "code",
   "execution_count": 151,
   "metadata": {},
   "outputs": [],
   "source": [
    "from sklearn.naive_bayes import  GaussianNB\n"
   ]
  },
  {
   "cell_type": "code",
   "execution_count": 152,
   "metadata": {},
   "outputs": [
    {
     "data": {
      "text/plain": [
       "GaussianNB(priors=None)"
      ]
     },
     "execution_count": 152,
     "metadata": {},
     "output_type": "execute_result"
    }
   ],
   "source": [
    "clf = GaussianNB()\n",
    "clf.fit(X_train,y_train)"
   ]
  },
  {
   "cell_type": "code",
   "execution_count": 154,
   "metadata": {},
   "outputs": [
    {
     "data": {
      "text/plain": [
       "1.0"
      ]
     },
     "execution_count": 154,
     "metadata": {},
     "output_type": "execute_result"
    }
   ],
   "source": [
    "clf.score(X_test, y_test)"
   ]
  },
  {
   "cell_type": "code",
   "execution_count": 158,
   "metadata": {},
   "outputs": [
    {
     "data": {
      "text/plain": [
       "array([1., 1., 1., 1., 1., 1.])"
      ]
     },
     "execution_count": 158,
     "metadata": {},
     "output_type": "execute_result"
    }
   ],
   "source": [
    "clf.predict([[1],[5],[5],[4],[5.3],[1.2]])\n"
   ]
  },
  {
   "cell_type": "code",
   "execution_count": 157,
   "metadata": {},
   "outputs": [],
   "source": [
    "from sklearn.naive_bayes import BernoulliNB, MultinomialNB # "
   ]
  },
  {
   "cell_type": "code",
   "execution_count": null,
   "metadata": {},
   "outputs": [],
   "source": []
  }
 ],
 "metadata": {
  "kernelspec": {
   "display_name": "Python 3",
   "language": "python",
   "name": "python3"
  },
  "language_info": {
   "codemirror_mode": {
    "name": "ipython",
    "version": 3
   },
   "file_extension": ".py",
   "mimetype": "text/x-python",
   "name": "python",
   "nbconvert_exporter": "python",
   "pygments_lexer": "ipython3",
   "version": "3.6.5"
  }
 },
 "nbformat": 4,
 "nbformat_minor": 2
}
