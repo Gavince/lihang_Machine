{
 "cells": [
  {
   "cell_type": "code",
   "execution_count": 1,
   "metadata": {},
   "outputs": [],
   "source": [
    "import math\n",
    "from copy import deepcopy"
   ]
  },
  {
   "cell_type": "code",
   "execution_count": 67,
   "metadata": {},
   "outputs": [],
   "source": [
    "class MaxEntrop:\n",
    "    #数据预处理\n",
    "    def __init__(self, EPS = 0.005):\n",
    "        self.samples =[]\n",
    "        self._Y = set()\n",
    "        self._numXY = {} #存放f(x, y)的存放次数\n",
    "        self._N = 0 #样本数目\n",
    "        self._Ep_ = []\n",
    "        self._xyID = {}#记录id编号\n",
    "        self._n = 0 #特征值（x, y）的个数\n",
    "        self.C = 0 #z最大特征数目\n",
    "        self._IDxy = {}\n",
    "        self._w = []\n",
    "        self._EPS = EPS #收敛条件\n",
    "        self._lastw = [] \n",
    "        \n",
    "    def loadData(self, dataset):\n",
    "        \n",
    "        self._samples = deepcopy(dataset)\n",
    "        #print(self._samples)\n",
    "        for items in self._samples:\n",
    "            y = items[0]\n",
    "            X = items[1:]\n",
    "            #print(y, X)\n",
    "            self._Y.add(y)  # 集合中y若已存在则会自动忽略\n",
    "            for x in X:\n",
    "                if (x, y) in self._numXY:\n",
    "                    self._numXY[(x, y)] += 1\n",
    "                else:\n",
    "                    self._numXY[(x, y)] = 1\n",
    "        \n",
    "        #print(\"self._numXY\", self._numXY)\n",
    "        self._N = len(self._samples)\n",
    "        self._n = len(self._numXY)\n",
    "        self._C = max([len(sample) - 1 for sample in self._samples])\n",
    "        print(\"self._c\", self._C)\n",
    "        self._w = [0] * self._n\n",
    "        self._lastw = self._w[:]\n",
    "\n",
    "        self._Ep_ = [0] * self._n\n",
    "        for i, xy in enumerate(self._numXY):  # 计算特征函数fi关于经验分布的期望\n",
    "            self._Ep_[i] = self._numXY[xy] / self._N #计算经验分布函数\n",
    "            self._xyID[xy] = i\n",
    "            self._IDxy[i] = xy\n",
    "            \n",
    "    def _Zx(self, X):\n",
    "        zx = 0\n",
    "        \n",
    "        for y in self._Y:\n",
    "            ss = 0\n",
    "            for x in X:\n",
    "#                 print(\"-------------------\")\n",
    "#                 print(\"x = \", x)\n",
    "                if (x, y) in self._numXY:\n",
    "                    ss += self._w[self._xyID[(x, y)]] #保证权值和特征函数一一对应\n",
    "            zx += math.exp(ss)\n",
    "        return zx\n",
    "        \n",
    "    def _model_pyx(self, y, X):\n",
    "        zx =  self._Zx(X)\n",
    "        ss = 0\n",
    "        for x in X:\n",
    "            if (x, y) in self._numXY:\n",
    "                ss += self._w[self._xyID[(x, y)]]\n",
    "        pyx = math.exp(ss) / zx\n",
    "        \n",
    "        return pyx\n",
    "    \n",
    "    def _model_ep(self, index):  # 计算特征函数fi关于模型的期望\n",
    "        x, y = self._IDxy[index]\n",
    "        ep = 0\n",
    "        for sample in self._samples:\n",
    "            #print(\"sample : \", sample)\n",
    "            if x not in sample:\n",
    "                continue\n",
    "            pyx = self._model_pyx(y, sample)\n",
    "            ep += pyx / self._N\n",
    "        return ep\n",
    "    \n",
    "    def _convergence(self):#判断模型是否收敛\n",
    "        for last, now in zip(self._lastw, self._w):\n",
    "            if abs(last - now) >= self._EPS:\n",
    "                return False\n",
    "        return True\n",
    "    \n",
    "    def predict(self, X):\n",
    "        Z = self._Zx(X)\n",
    "        result = {}\n",
    "        \n",
    "        for y in self._Y:\n",
    "            ss = 0 \n",
    "            for x in X:\n",
    "                if (x, y) in self._numXY:\n",
    "                    ss += self._w[self._xyID[(x, y)]]\n",
    "            pyx = math.exp(ss)/Z\n",
    "            result[y] = pyx\n",
    "        \n",
    "        return result\n",
    "    \n",
    "    def train(self, maxiter = 1000):\n",
    "        for loop in range(maxiter):\n",
    "            \n",
    "            self._lastw = self._w[:]\n",
    "            \n",
    "            #改进的迭代尺度算法（IIS）\n",
    "            for i in range(self._n):\n",
    "                ep = self._model_ep(i)\n",
    "                self._w[i] += math.log(self._Ep_[i]/ep)/self._C\n",
    "            #print(\"w:\",self._w)\n",
    "            if self._convergence():\n",
    "                break\n",
    "         "
   ]
  },
  {
   "cell_type": "code",
   "execution_count": 68,
   "metadata": {},
   "outputs": [],
   "source": [
    "dataset = [['no', 'sunny', 'hot', 'high', 'FALSE'],\n",
    "           ['no', 'sunny', 'hot', 'high', 'TRUE'],\n",
    "           ['yes', 'overcast', 'hot', 'high', 'FALSE'],\n",
    "           ['yes', 'rainy', 'mild', 'high', 'FALSE'],\n",
    "           ['yes', 'rainy', 'cool', 'normal', 'FALSE'],\n",
    "           ['no', 'rainy', 'cool', 'normal', 'TRUE'],\n",
    "           ['yes', 'overcast', 'cool', 'normal', 'TRUE'],\n",
    "           ['no', 'sunny', 'mild', 'high', 'FALSE'],\n",
    "           ['yes', 'sunny', 'cool', 'normal', 'FALSE'],\n",
    "           ['yes', 'rainy', 'mild', 'normal', 'FALSE'],\n",
    "           ['yes', 'sunny', 'mild', 'normal', 'TRUE'],\n",
    "           ['yes', 'overcast', 'mild', 'high', 'TRUE'],\n",
    "           ['yes', 'overcast', 'hot', 'normal', 'FALSE'],\n",
    "           ['no', 'rainy', 'mild', 'high', 'TRUE']]"
   ]
  },
  {
   "cell_type": "code",
   "execution_count": 69,
   "metadata": {},
   "outputs": [],
   "source": [
    "maxent = MaxEntrop()\n",
    "x = ['overcast', 'mild', 'high', 'FALSE']"
   ]
  },
  {
   "cell_type": "code",
   "execution_count": 70,
   "metadata": {},
   "outputs": [
    {
     "name": "stdout",
     "output_type": "stream",
     "text": [
      "self._c 4\n"
     ]
    }
   ],
   "source": [
    "maxent.loadData(dataset)\n",
    "maxent.train(1000)\n"
   ]
  },
  {
   "cell_type": "code",
   "execution_count": 61,
   "metadata": {},
   "outputs": [
    {
     "name": "stdout",
     "output_type": "stream",
     "text": [
      "准确率：99.999718\n",
      "w [3.8083642640626567, 0.03486819339596017, 1.6400224976589863, -4.463151671894514, 1.7883062251202593, 5.3085267683086395, -0.13398764643967703, -2.2539799445450392, 1.484078418970969, -1.8909065913678864, 1.9332493167387288, -1.262945447606903, 1.725751941905932, 2.967849703391228, 3.9061632698216293, -9.520241584621717, -1.8736788731126408, -3.4838446608661995, -5.637874599559358]\n"
     ]
    }
   ],
   "source": [
    "print(\"准确率：%f\"%(maxent.predict(x)[\"yes\"]*100))\n",
    "print(\"w\",maxent._w)"
   ]
  },
  {
   "cell_type": "code",
   "execution_count": null,
   "metadata": {},
   "outputs": [],
   "source": []
  },
  {
   "cell_type": "code",
   "execution_count": null,
   "metadata": {},
   "outputs": [],
   "source": []
  },
  {
   "cell_type": "code",
   "execution_count": null,
   "metadata": {},
   "outputs": [],
   "source": []
  },
  {
   "cell_type": "code",
   "execution_count": null,
   "metadata": {},
   "outputs": [],
   "source": []
  },
  {
   "cell_type": "code",
   "execution_count": null,
   "metadata": {},
   "outputs": [],
   "source": []
  },
  {
   "cell_type": "code",
   "execution_count": null,
   "metadata": {},
   "outputs": [],
   "source": []
  }
 ],
 "metadata": {
  "kernelspec": {
   "display_name": "Python 3",
   "language": "python",
   "name": "python3"
  },
  "language_info": {
   "codemirror_mode": {
    "name": "ipython",
    "version": 3
   },
   "file_extension": ".py",
   "mimetype": "text/x-python",
   "name": "python",
   "nbconvert_exporter": "python",
   "pygments_lexer": "ipython3",
   "version": "3.6.5"
  }
 },
 "nbformat": 4,
 "nbformat_minor": 2
}
