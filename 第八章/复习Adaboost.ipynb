{
 "cells": [
  {
   "cell_type": "markdown",
   "metadata": {},
   "source": [
    "## AdaBoost算法"
   ]
  },
  {
   "cell_type": "markdown",
   "metadata": {},
   "source": [
    "### AdaBoost算法描述"
   ]
  },
  {
   "cell_type": "markdown",
   "metadata": {},
   "source": [
    "**AdaBoost**是AdaptiveBoost的缩写，表明该算法是具有适应性的提升算法。\n",
    "\n",
    "算法的步骤如下：\n",
    "\n",
    "1）给每个训练样本（$x_{1},x_{2},….,x_{N}$）分配权重，初始权重$w_{1}$均为1/N。\n",
    "\n",
    "2）针对带有权值的样本进行训练，得到模型$G_m$（初始模型为G1）。\n",
    "\n",
    "3）计算模型$G_m$的误分率$e_m=\\sum_{i=1}^Nw_iI(y_i\\not= G_m(x_i))$\n",
    "\n",
    "4）计算模型$G_m$的系数$\\alpha_m=0.5\\log[(1-e_m)/e_m]$\n",
    "\n",
    "5）根据误分率e和当前权重向量$w_m$更新权重向量$w_{m+1}$。\n",
    "\n",
    "6）计算组合模型$f(x)=\\sum_{m=1}^M\\alpha_mG_m(x_i)$的误分率。\n",
    "\n",
    "7）当组合模型的误分率或迭代次数低于一定阈值，停止迭代；否则，回到步骤2）"
   ]
  },
  {
   "cell_type": "markdown",
   "metadata": {},
   "source": [
    "### AdaBoost代码"
   ]
  },
  {
   "cell_type": "code",
   "execution_count": 1,
   "metadata": {},
   "outputs": [],
   "source": [
    "import numpy as np\n",
    "import pandas as pd\n",
    "from sklearn.datasets import load_iris\n",
    "from sklearn.model_selection  import train_test_split\n",
    "import matplotlib.pyplot as plt\n",
    "%matplotlib inline"
   ]
  },
  {
   "cell_type": "code",
   "execution_count": 29,
   "metadata": {},
   "outputs": [],
   "source": [
    "class Adaboost:\n",
    "    \"\"\"\n",
    "    构建AdaBoost\n",
    "    \"\"\"\n",
    "    \n",
    "    def __init__(self, n_estimators=50, learning_rate = 1.0):\n",
    "        \"\"\"初始化超参数\"\"\"\n",
    "        \n",
    "        self.clf_num = n_estimators\n",
    "        self.learning_rate = learning_rate\n",
    "    \n",
    "    def init_args(self, datasets, labels):\n",
    "        \"\"\"初始化参数\"\"\"\n",
    "        \n",
    "        self.error_array = []\n",
    "        self.iter = []\n",
    "#         self.train_error = 1111111\n",
    "        self.Y = labels\n",
    "        self.X = datasets\n",
    "        self.M, self.N = datasets.shape\n",
    "        \n",
    "        self.clf_sets = []  # 记录分类器参数\n",
    "        self.weights = [1.0/self.M] * self.M #初始化权重\n",
    "        \n",
    "        self.alpha = [] #每一个分类器的系数\n",
    "        \n",
    "    def _G(self, features, labels, weights):\n",
    "        \"\"\"基本分类器\"\"\"\n",
    "        \n",
    "        m = len(features)\n",
    "        error = 100000.0\n",
    "        best_v = 0.0 #　最优切分点\n",
    "        features_min = min(features)\n",
    "        features_max = max(features)\n",
    "        \n",
    "        # 遍历次数\n",
    "        n_step = (features_max - features_min+self.learning_rate)//self.learning_rate\n",
    "        \n",
    "        direct, compare_array = None, None\n",
    "        \n",
    "        for i in range(1, int(n_step)):\n",
    "            v = features_min + self.learning_rate*i\n",
    "            \n",
    "            if v not in features:\n",
    "                \n",
    "                # positive\n",
    "                # 寻找最优的切分点\n",
    "                compare_array_positive = np.array([\n",
    "                    1 if features[k] > v else -1 for k in range(m)\n",
    "                ])\n",
    "                \n",
    "                # 计算误分类率\n",
    "                weights_error_positive = sum([\n",
    "                    weights[k] for k in range(m) if compare_array_positive[k] != labels[k]\n",
    "                ])\n",
    "                \n",
    "                # negative\n",
    "                compare_array_negative = np.array([\n",
    "                    -1 if features[k] > v else 1 for k in range(m)\n",
    "                ])\n",
    "                weights_error_negative = sum([\n",
    "                    weights[k] for k in range(m) if compare_array_negative[k] != labels[k]\n",
    "                ])\n",
    "                \n",
    "                if weights_error_positive < weights_error_negative:\n",
    "                    weight_error = weights_error_positive\n",
    "                    _compare_array = compare_array_positive\n",
    "                    direct = \"positive\"\n",
    "                else:\n",
    "                    weight_error = weights_error_negative\n",
    "                    _compare_array = compare_array_negative\n",
    "                    direct = \"negative\"\n",
    "                    \n",
    "                #记录一次遍历之后最小误差的数据\n",
    "                \n",
    "                if weight_error < error:\n",
    "                    \n",
    "                    error = weight_error\n",
    "                    compare_array = _compare_array\n",
    "                    best_v = v #最优切分点\n",
    "                    \n",
    "        return best_v, direct, error, compare_array\n",
    "    \n",
    "    def _alpha(self, error):\n",
    "        \"\"\"计算分类器系数\"\"\"\n",
    "        \n",
    "        return 0.5 * np.log((1 - error) / error)\n",
    "    \n",
    "    def _Z(self, weights, a, clf):\n",
    "        \"\"\"计算规范化因子\"\"\"\n",
    "        \n",
    "        return sum([\n",
    "            weights[i] * np.exp(-1 * a * self.Y[i] * clf[i]) for i in range(self.M)\n",
    "        ])\n",
    "    \n",
    "    def _w(self, a, clf, Z):\n",
    "        \"\"\"计算新一步的权值\"\"\"\n",
    "        \n",
    "        for i in range(self.M):\n",
    "            self.weights[i] = self.weights[i] * np.exp(\n",
    "            -1 * a * self.Y[i] *clf[i]) / Z\n",
    "            \n",
    "    def G(self, x, v , direct):\n",
    "        \"\"\"决策树桩\"\"\"\n",
    "        \n",
    "        if direct == \"positive\":\n",
    "            return 1 if x>v else -1\n",
    "        else:\n",
    "            return -1 if x>v else 1\n",
    "        \n",
    "    def fit(self, X, y):\n",
    "        \"\"\"训练数据\"\"\"\n",
    "        \n",
    "        self.init_args(X, y)\n",
    "        axis = 0 #记录最优切分变量\n",
    "        best_clf_error, best_v, clf_result = 100000, None, None\n",
    "        \n",
    "        #开始迭代\n",
    "        for epoch in range(self.clf_num):\n",
    "            for j in range(self.N):  # 选取不同的特征维度进行考量\n",
    "                features = self.X[:, j] # 遍历第j个切分变量的所有的所有切分点\n",
    "                    \n",
    "                v, direct, error, compare_array = self._G(\n",
    "                    features, self.Y, self.weights)\n",
    "\n",
    "                if error < best_clf_error:\n",
    "                    best_clf_error = error\n",
    "                    self.error_array.append(best_clf_error)\n",
    "                    self.iter.append(epoch+1)\n",
    "                    best_v = v\n",
    "                    final_direct = direct\n",
    "                    clf_result = compare_array # 记录分类器输出的结果\n",
    "                    axis = j # 记录最优切分变量\n",
    "                if best_clf_error == 0:\n",
    "                    break\n",
    "\n",
    "            # 计算分类器系数\n",
    "            a = self._alpha(best_clf_error)\n",
    "            self.alpha.append(a)\n",
    "                \n",
    "            # 记录分类器参数\n",
    "            self.clf_sets.append((axis, best_v, final_direct))\n",
    "\n",
    "            # 记录规范化因子\n",
    "            Z = self._Z(self.weights, a, clf_result) \n",
    "\n",
    "            # 权重更新\n",
    "            self._w(a, clf_result, Z)\n",
    "            \n",
    "            #计算训练误差\n",
    "#             self.train_error = self.score(X, y)\n",
    "\n",
    "    def predict(self, feature):\n",
    "        \"\"\"预测\"\"\"\n",
    "        \n",
    "        result = 0.0\n",
    "        print(\"ssss\", self.alpha)\n",
    "        for i in range(len(self.clf_sets)):  # 遍历所有的分类器\n",
    "            axis, clf_v, direct = self.clf_sets[i]\n",
    "            f_input = feature[axis]  # 找到所对应的最优切分变量\n",
    "            result += self.alpha[i] * self.G(f_input, clf_v, direct)\n",
    "        \n",
    "        return 1 if result > 0 else -1  # 符号函数sign\n",
    "    \n",
    "    def score(self, X_test, Y_test):\n",
    "        \"\"\"评估\"\"\"\n",
    "        \n",
    "        right_count = 0\n",
    "        \n",
    "        for i in range(len(X_test)):\n",
    "            feature = X_test[i]\n",
    "            if self.predict(feature) == Y_test[i]:\n",
    "                right_count += 1\n",
    "                \n",
    "        return right_count/len(X_test)        "
   ]
  },
  {
   "cell_type": "markdown",
   "metadata": {},
   "source": [
    "### 例题 8.1"
   ]
  },
  {
   "cell_type": "code",
   "execution_count": 30,
   "metadata": {},
   "outputs": [],
   "source": [
    "#　1.创建数据\n",
    "X = np.arange(10).reshape(10, 1)\n",
    "y = np.array([1, 1, 1, -1, -1, -1, 1, 1, 1, -1])"
   ]
  },
  {
   "cell_type": "code",
   "execution_count": 31,
   "metadata": {},
   "outputs": [
    {
     "data": {
      "image/png": "[encoded data removed]",
      "text/plain": [
       "<Figure size 432x288 with 1 Axes>"
      ]
     },
     "metadata": {
      "needs_background": "light"
     },
     "output_type": "display_data"
    }
   ],
   "source": [
    "#　2.图形化\n",
    "plt.scatter(X, y)\n",
    "plt.title(\"原始数据分布\")\n",
    "plt.xlabel(\"数据\")\n",
    "plt.ylabel(\"标签\")\n",
    "plt.savefig(\"数据一\")\n",
    "plt.show()"
   ]
  },
  {
   "cell_type": "code",
   "execution_count": 32,
   "metadata": {},
   "outputs": [
    {
     "name": "stdout",
     "output_type": "stream",
     "text": [
      "ssss [0.4236489301936017, 0.6496414920651304, 0.752038698388137, 0.752038698388137, 1.2879392139968633, 1.3776981608497036, 1.3776981608497036, 1.7737465083772515, 2.0484059358202793, 2.0484059358202793, 2.4075699486542277, 2.7354169642952266, 2.7354169642952266, 3.085154096487995, 3.4269925973897033, 3.4269925973897033]\n"
     ]
    },
    {
     "data": {
      "text/plain": [
       "1"
      ]
     },
     "execution_count": 32,
     "metadata": {},
     "output_type": "execute_result"
    }
   ],
   "source": [
    "#  3.预测数据\n",
    "clf = Adaboost(n_estimators=16, learning_rate=0.5)\n",
    "clf.fit(X, y)\n",
    "clf.predict([6])"
   ]
  },
  {
   "cell_type": "code",
   "execution_count": 26,
   "metadata": {},
   "outputs": [
    {
     "data": {
      "image/png": "[encoded data removed]",
      "text/plain": [
       "<Figure size 432x288 with 1 Axes>"
      ]
     },
     "metadata": {
      "needs_background": "light"
     },
     "output_type": "display_data"
    }
   ],
   "source": [
    "#  4.训练误差\n",
    "plt.plot(clf.iter, clf.error_array)\n",
    "plt.title(\"训练误差图\")\n",
    "plt.xlabel(\"分类器\")\n",
    "plt.ylabel(\"分类误差\")\n",
    "plt.savefig(\"弱分类器30\")\n",
    "plt.show()"
   ]
  },
  {
   "cell_type": "markdown",
   "metadata": {},
   "source": [
    "### sklearn数据"
   ]
  },
  {
   "cell_type": "code",
   "execution_count": 36,
   "metadata": {},
   "outputs": [],
   "source": [
    "def create_data():\n",
    "    iris = load_iris()\n",
    "    X = iris.data[:100,:2]\n",
    "    y = iris.target[:100]\n",
    "    return X, y"
   ]
  },
  {
   "cell_type": "code",
   "execution_count": 37,
   "metadata": {},
   "outputs": [],
   "source": [
    "# 1.创建数据\n",
    "X, y = create_data()\n",
    "#改写数据标注“0”为“-1”\n",
    "for i in range(len(y)):\n",
    "    if y[i] == 0:\n",
    "        y[i] = -1\n",
    "X_train, X_test, y_train, y_test = train_test_split(X, y, test_size=0.33)"
   ]
  },
  {
   "cell_type": "code",
   "execution_count": 38,
   "metadata": {},
   "outputs": [
    {
     "data": {
      "image/png": "[encoded data removed]",
      "text/plain": [
       "<Figure size 432x288 with 1 Axes>"
      ]
     },
     "metadata": {
      "needs_background": "light"
     },
     "output_type": "display_data"
    }
   ],
   "source": [
    "# 2.数据模型\n",
    "X , y = create_data()\n",
    "plt.scatter(X[y==0, 0], X[y==0, 1], label = \"0\")\n",
    "plt.scatter(X[y==1, 0], X[y==1, 1], label = \"1\")\n",
    "plt.legend()\n",
    "plt.savefig(\"原始数据\")\n",
    "plt.show()"
   ]
  },
  {
   "cell_type": "code",
   "execution_count": 39,
   "metadata": {},
   "outputs": [
    {
     "data": {
      "image/png": "[encoded data removed]",
      "text/plain": [
       "<Figure size 432x288 with 1 Axes>"
      ]
     },
     "metadata": {
      "needs_background": "light"
     },
     "output_type": "display_data"
    }
   ],
   "source": [
    "# 3.训练集数据分布\n",
    "plt.scatter(X_train[:,0], y_train)\n",
    "plt.title(\"训练集数据分布\")\n",
    "plt.savefig(\"训练集数据分布\")\n",
    "plt.show()"
   ]
  },
  {
   "cell_type": "code",
   "execution_count": 40,
   "metadata": {},
   "outputs": [
    {
     "data": {
      "image/png": "[encoded data removed]",
      "text/plain": [
       "<Figure size 432x288 with 1 Axes>"
      ]
     },
     "metadata": {
      "needs_background": "light"
     },
     "output_type": "display_data"
    }
   ],
   "source": [
    "# 4.测试集数据分布\n",
    "plt.scatter(X_test[:, 1], y_test)\n",
    "plt.title(\"测试集数据分布\")\n",
    "plt.savefig(\"测试集数据分布\")\n",
    "plt.show()"
   ]
  },
  {
   "cell_type": "code",
   "execution_count": 275,
   "metadata": {},
   "outputs": [
    {
     "data": {
      "text/plain": [
       "0.7272727272727273"
      ]
     },
     "execution_count": 275,
     "metadata": {},
     "output_type": "execute_result"
    }
   ],
   "source": [
    "# 4.训练和测试\n",
    "clf = Adaboost(n_estimators=10, learning_rate=0.2)\n",
    "clf.fit(X_train, y_train)\n",
    "clf.score(X_test, y_test)"
   ]
  },
  {
   "cell_type": "code",
   "execution_count": 278,
   "metadata": {},
   "outputs": [
    {
     "name": "stdout",
     "output_type": "stream",
     "text": [
      "average score:22.970%\n"
     ]
    }
   ],
   "source": [
    "# 多次迭代\n",
    "result = []\n",
    "error = []\n",
    "iter1 = []\n",
    "for i in range(1, 101):\n",
    "    X, y = create_data()\n",
    "    X_train, X_test, y_train, y_test = train_test_split(X, y, test_size=0.33)\n",
    "    clf = Adaboost(n_estimators=50, learning_rate=0.2)\n",
    "    \n",
    "    clf.fit(X_train, y_train)\n",
    "#     error.append(clf.train_error)\n",
    "#     print(clf.error_array)\n",
    "    iter1.append(i)\n",
    "    \n",
    "    r = clf.score(X_train, y_train)\n",
    "    # print('{}/100 score：{}'.format(i, r))\n",
    "    result.append(r)\n",
    "\n",
    "print('average score:{:.3f}%'.format(sum(result)))"
   ]
  },
  {
   "cell_type": "code",
   "execution_count": 279,
   "metadata": {},
   "outputs": [
    {
     "data": {
      "image/png": "[encoded data removed]",
      "text/plain": [
       "<Figure size 432x288 with 1 Axes>"
      ]
     },
     "metadata": {
      "needs_background": "light"
     },
     "output_type": "display_data"
    }
   ],
   "source": [
    "# 损失函数\n",
    "plt.plot(iter1,result )\n",
    "plt.title(\"训练误差\")\n",
    "plt.xlabel(\"迭代次数\")\n",
    "plt.ylabel(\"训练误差\")\n",
    "plt.show()"
   ]
  },
  {
   "cell_type": "code",
   "execution_count": null,
   "metadata": {},
   "outputs": [],
   "source": []
  },
  {
   "cell_type": "code",
   "execution_count": null,
   "metadata": {},
   "outputs": [],
   "source": [
    "\n",
    "\n",
    "\n"
   ]
  }
 ],
 "metadata": {
  "kernelspec": {
   "display_name": "Python 3",
   "language": "python",
   "name": "python3"
  },
  "language_info": {
   "codemirror_mode": {
    "name": "ipython",
    "version": 3
   },
   "file_extension": ".py",
   "mimetype": "text/x-python",
   "name": "python",
   "nbconvert_exporter": "python",
   "pygments_lexer": "ipython3",
   "version": "3.6.5"
  }
 },
 "nbformat": 4,
 "nbformat_minor": 2
}
