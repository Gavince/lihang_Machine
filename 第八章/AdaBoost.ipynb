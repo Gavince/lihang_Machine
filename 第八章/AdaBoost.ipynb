{
 "cells": [
  {
   "cell_type": "code",
   "execution_count": 2,
   "metadata": {},
   "outputs": [],
   "source": [
    "import numpy as np\n",
    "import pandas as pd\n",
    "from sklearn.datasets import load_iris\n",
    "from sklearn.model_selection  import train_test_split\n",
    "import matplotlib.pyplot as plt\n",
    "%matplotlib inline"
   ]
  },
  {
   "cell_type": "code",
   "execution_count": 3,
   "metadata": {},
   "outputs": [],
   "source": [
    "def create_data():\n",
    "    iris = load_iris()\n",
    "    X = iris.data[:100,:2]\n",
    "    y = iris.target[:100]\n",
    "    return X, y"
   ]
  },
  {
   "cell_type": "code",
   "execution_count": 5,
   "metadata": {},
   "outputs": [
    {
     "data": {
      "image/png": "[encoded data removed]",
      "text/plain": [
       "<Figure size 432x288 with 1 Axes>"
      ]
     },
     "metadata": {
      "needs_background": "light"
     },
     "output_type": "display_data"
    }
   ],
   "source": [
    "#画出数据模型\n",
    "X , y = create_data()\n",
    "plt.scatter(X[y==0, 0], X[y==0, 1], label = \"0\")\n",
    "plt.scatter(X[y==1, 0], X[y==1, 1], label = \"1\")\n",
    "plt.legend()\n",
    "plt.savefig(\"原始数据\")\n",
    "plt.show()"
   ]
  },
  {
   "cell_type": "code",
   "execution_count": 28,
   "metadata": {},
   "outputs": [],
   "source": [
    "class Adaboost:\n",
    "    \"\"\"定义Adaboost类\"\"\"\n",
    "    \n",
    "    def __init__(self, n_estimators = 50, learning_rate = 1.0):\n",
    "        \"\"\"初始化整体分类器的参数\"\"\"\n",
    "        self.clf_num = n_estimators #有多少个弱分类器\n",
    "        self.learning_rate = learning_rate\n",
    "    \n",
    "    def init_args(self, datasets, labels):\n",
    "        \"\"\"初始化弱分类器参数\"\"\"\n",
    "        self.X = datasets\n",
    "        self.Y = labels\n",
    "        self.M, self.N = datasets.shape #m的数据样本，n个特征\n",
    "        \n",
    "        #初始化原始数据每一个点的权重为平均权重\n",
    "        self.weights = [1.0/self.M]*self.M\n",
    "        \n",
    "        self.aplha = []\n",
    "        self.clf_sets = []\n",
    "        \n",
    "    def _G(self, features, labels, weights):\n",
    "        \"\"\"弱分类器\"\"\"\n",
    "        \"\"\"是一个决策树桩算法的实现\"\"\"\n",
    "        m = len(features)\n",
    "        error = 10000.0 #设置为最大值\n",
    "        best_v = 0.0 #选取最优分类点\n",
    "        \n",
    "        #构建特征度量\n",
    "        features_min = min(features)\n",
    "        features_max = max(features)\n",
    "       \n",
    "        n_step = (features_max - features_min + \n",
    "                  self.learning_rate)//self.learning_rate\n",
    "        \n",
    "#         print(\"迭代：\",n_step)\n",
    "        direct, compare_array = None, None\n",
    "        #求解最优切分点\n",
    "        for i in range(1, int(n_step)):\n",
    "            #遍历特征\n",
    "            v = features_min + self.learning_rate*i\n",
    "#             print()\n",
    "            #划分区域\n",
    "            if v not in features:\n",
    "                compare_array_positive = np.array([\n",
    "                    1 if features[k] > v else -1 for k in range(m)\n",
    "                ])\n",
    "                #计算此种情况下数据的损失率\n",
    "                weight_erroe_positive = sum([\n",
    "                    weights[k] for k in range(m) \n",
    "                    if compare_array_positive[k] != labels[k]\n",
    "                ])\n",
    "                compare_array_nagetive = np.array([\n",
    "                    -1 if features[k] > v else 1 for k in range(m)\n",
    "                ])\n",
    "                \n",
    "                weight_erroe_nagative = sum([\n",
    "                    weights[k] for k in range(m) \n",
    "                    if compare_array_nagetive[k] != labels[k]\n",
    "                ])\n",
    "                \n",
    "                #选择最优的标签类型\n",
    "                if weight_erroe_positive < weight_erroe_nagative:\n",
    "                    weights_error = weight_erroe_positive\n",
    "                    _compare_array = compare_array_positive\n",
    "                    direct = \"positive\"\n",
    "                else:\n",
    "                    weights_error = weight_erroe_nagative\n",
    "                    _compare_array = compare_array_nagetive\n",
    "                    direct = \"negative\"\n",
    "                    \n",
    "                if weights_error < error:\n",
    "                    error = weights_error\n",
    "                    compare_array = _compare_array\n",
    "                    best_v = v\n",
    "                    \n",
    "                \n",
    "        return best_v,direct,error, compare_array\n",
    "        \n",
    "\n",
    "        \n",
    "        \n",
    "    def _alpha(self, error):\n",
    "        \"\"\"弱分类器系数\"\"\"\n",
    "        return 0.5 * np.log((1 - error)/error)\n",
    "    \n",
    "    def _w(self, a, clf, Z):\n",
    "        \"\"\"权重更新\"\"\"\n",
    "        for i in range(self.M):\n",
    "            self.weights[i] = self.weights[i] * np.exp(\n",
    "            -1 * a * self.Y[i] * clf[i])/Z\n",
    "    \n",
    "    def _Z(self, weights, a, clf):\n",
    "        \"\"\"规范化因子\"\"\"\n",
    "        return  sum([weights[i] * np.exp(-1 * a * self.Y[i]*\n",
    "                                            clf[i]) for i in range(self.M)])\n",
    "        \n",
    "    def G(self, x, v, direct):\n",
    "        \"\"\"决策树桩\"\"\"\n",
    "        if direct == \"positive\":\n",
    "            return 1 if x > v else -1\n",
    "        else:\n",
    "            return -1 if x > v else 1\n",
    "    \n",
    "    def fit(self, X, y):\n",
    "        \"\"\"训练数据\"\"\"\n",
    "        #1.初始化参数\n",
    "        self.init_args(X, y)\n",
    "        best_clf_error, best_v, clf_result = 10000.0, None, None\n",
    "        axis = 0\n",
    "        #2.寻找模型的最佳数据点\n",
    "        for epoch in range(self.clf_num):\n",
    "            for j in range(self.N):\n",
    "                #遍历每一维度的数据特征\n",
    "                features = self.X[:, j]\n",
    "                v, direct, error, compare_array = self._G(features,\n",
    "                                                         self.Y, self.weights)\n",
    "                if error < best_clf_error:\n",
    "                    best_clf_error = error\n",
    "                    best_v = v\n",
    "                    final_direct = direct\n",
    "                    clf_result = compare_array\n",
    "                    axis = j#记录特征维度\n",
    "                    \n",
    "                if best_clf_error==0:\n",
    "                    break\n",
    "            #3.权重更新和分类器系数计算\n",
    "            #3.1系数\n",
    "            a = self._alpha(best_clf_error)\n",
    "            self.aplha.append(a)\n",
    "            #3.2记录每一分类器的参数\n",
    "            self.clf_sets.append((axis, best_v, final_direct))\n",
    "            #3.3规范化因子\n",
    "            Z = self._Z(self.weights, a, clf_result)\n",
    "            #3.4 权值更新\n",
    "            self._w(a, clf_result, Z)\n",
    "\n",
    "    \n",
    "    def predict(self, feature):\n",
    "        \"\"\"单例评测\"\"\"\n",
    "        result = 0.0\n",
    "        for i in range(len(self.clf_sets)):\n",
    "            axis, clf_v, direct = self.clf_sets[i]\n",
    "#             print(self.clf_sets[i])\n",
    "            f_input = feature[axis]\n",
    "            result += self.aplha[i] * self.G(f_input, clf_v, direct)\n",
    "#             print(result)\n",
    "        # sign\n",
    "#            ? print(\"最优分类器参数：\",self.clf_sets[i])\n",
    "        return 1 if result > 0 else -1\n",
    "    \n",
    "    def score(self, X_test, y_test):\n",
    "        \"\"\"评测数据集\"\"\"\n",
    "        right_count = 0\n",
    "        for i in range(len(X_test)):\n",
    "            feature = X_test[i]\n",
    "            if self.predict(feature) == y_test[i]:\n",
    "                right_count += 1\n",
    "        #print(right_count)\n",
    "\n",
    "        return right_count / len(X_test)"
   ]
  },
  {
   "cell_type": "code",
   "execution_count": 29,
   "metadata": {},
   "outputs": [
    {
     "data": {
      "text/plain": [
       "1"
      ]
     },
     "execution_count": 29,
     "metadata": {},
     "output_type": "execute_result"
    }
   ],
   "source": [
    "import numpy as np\n",
    "X = np.arange(10).reshape(10, 1)\n",
    "Y = np.array([1, 1, 1, -1, -1, -1, 1, 1, 1, -1])\n",
    "clf = Adaboost(n_estimators=3, learning_rate=0.5)\n",
    "clf.fit(X, Y)\n",
    "clf.predict([5])"
   ]
  },
  {
   "cell_type": "code",
   "execution_count": 30,
   "metadata": {},
   "outputs": [],
   "source": [
    "X, y = create_data()\n",
    "#改写数据标注“0”为“-1”\n",
    "for i in range(len(y)):\n",
    "    if y[i] == 0:\n",
    "        y[i] = -1\n",
    "X_train, X_test, y_train, y_test = train_test_split(X, y, test_size=0.33)"
   ]
  },
  {
   "cell_type": "code",
   "execution_count": 31,
   "metadata": {},
   "outputs": [
    {
     "data": {
      "text/plain": [
       "0.48484848484848486"
      ]
     },
     "execution_count": 31,
     "metadata": {},
     "output_type": "execute_result"
    }
   ],
   "source": [
    "clf = Adaboost(n_estimators=10, learning_rate=0.2)\n",
    "clf.fit(X_train, y_train)\n",
    "clf.score(X_test, y_test)\n",
    "# print(X_test,y_test)"
   ]
  },
  {
   "cell_type": "code",
   "execution_count": 33,
   "metadata": {},
   "outputs": [
    {
     "name": "stdout",
     "output_type": "stream",
     "text": [
      "average score:24.515%\n"
     ]
    }
   ],
   "source": [
    "# 100次结果\n",
    "result = []\n",
    "for i in range(1, 101):\n",
    "    X, y = create_data()\n",
    "    X_train, X_test, y_train, y_test = train_test_split(X, y, test_size=0.33)\n",
    "    clf = Adaboost(n_estimators=100, learning_rate=0.2)\n",
    "    clf.fit(X_train, y_train)\n",
    "    r = clf.score(X_test, y_test)\n",
    "    # print('{}/100 score：{}'.format(i, r))\n",
    "    result.append(r)\n",
    "\n",
    "print('average score:{:.3f}%'.format(sum(result)))"
   ]
  },
  {
   "cell_type": "code",
   "execution_count": null,
   "metadata": {},
   "outputs": [],
   "source": []
  }
 ],
 "metadata": {
  "kernelspec": {
   "display_name": "Python 3",
   "language": "python",
   "name": "python3"
  },
  "language_info": {
   "codemirror_mode": {
    "name": "ipython",
    "version": 3
   },
   "file_extension": ".py",
   "mimetype": "text/x-python",
   "name": "python",
   "nbconvert_exporter": "python",
   "pygments_lexer": "ipython3",
   "version": "3.6.5"
  }
 },
 "nbformat": 4,
 "nbformat_minor": 2
}
