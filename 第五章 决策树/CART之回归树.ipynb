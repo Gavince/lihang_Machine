{
 "cells": [
  {
   "cell_type": "code",
   "execution_count": 2,
   "metadata": {},
   "outputs": [],
   "source": [
    "from numpy import *"
   ]
  },
  {
   "cell_type": "code",
   "execution_count": 2,
   "metadata": {},
   "outputs": [
    {
     "name": "stdout",
     "output_type": "stream",
     "text": [
      "{'feature': 1, 'value': 10.0, 'leftChild': {'feature': 1, 'value': 20.0, 'leftChild': 20.268, 'rightChild': {'feature': 1, 'value': 15.0, 'leftChild': 15.266, 'rightChild': 10.27}}, 'rightChild': {'feature': 1, 'value': 5.0, 'leftChild': 5.07, 'rightChild': 0.078}}\n"
     ]
    }
   ],
   "source": [
    "def loadDataset():\n",
    "    \"\"\"加载本地数据\"\"\"\n",
    "    \n",
    "    dataset = []\n",
    "    f = open(\"./data/regData.txt\")\n",
    "    fr = f.readlines()\n",
    "    for line in fr:\n",
    "        line = line.strip().split(\"\\t\")\n",
    "        linef = [float(li) for li in line]\n",
    "        dataset.append(linef)\n",
    "#         print(dataset)\n",
    "    dataSetMat = mat(dataset)\n",
    "    \n",
    "    return dataSetMat\n",
    "\n",
    "def calcErr(dataSetMat):\n",
    "    \n",
    "    error = var(dataSetMat[:,-1])*shape(dataSetMat)[0]\n",
    "    \n",
    "    return error\n",
    "\n",
    "def chooseBestFeatureval2split(dataSetMat):\n",
    "    \"\"\"选择分类节点\"\"\"\n",
    "    \n",
    "    # 如果预测值相同\n",
    "    if(len(set(dataSetMat[:, -1].T.tolist()[0])) == 1): return None, None\n",
    "    \n",
    "    bestFeature = 0\n",
    "    bestValue = 0\n",
    "    lowestErr = 100000\n",
    "    totalErr = calcErr(dataSetMat)\n",
    "    \n",
    "    #  遍历特征\n",
    "    for feature in range(shape(dataSetMat)[1] - 1):\n",
    "        allValues = [d[feature] for d in dataSetMat.tolist()]\n",
    "        values = set(allValues)  #每一个维度的特征\n",
    "        for value in values:\n",
    "            leftChild, rightChild = splitByFeatVal(feature, value, dataSetMat)\n",
    "            if(shape(leftChild)[0] == 0 or shape(rightChild)[0] == 0): continue\n",
    "            curErr = calcErr(leftChild) + calcErr(rightChild)\n",
    "            if (curErr < lowestErr):\n",
    "                bestFeature = feature\n",
    "                bestValue = value\n",
    "                lowestErr = curErr\n",
    "        \n",
    "    if (totalErr - lowestErr < 1): return None, None # 防止过拟合，并且作为递归的终止条件\n",
    "    \n",
    "    return bestFeature, bestValue\n",
    "\n",
    "def splitByFeatVal(feature, value, dataSetMat):\n",
    "    \"\"\"分裂节点\"\"\"\n",
    "    \n",
    "    leftChild = dataSetMat[nonzero(dataSetMat[:, feature] > value)[0],:]\n",
    "    rightChild = dataSetMat[nonzero(dataSetMat[:, feature] <= value)[0],:]\n",
    "    \n",
    "    return leftChild, rightChild\n",
    "\n",
    "def createRegTree(dataSetMat):\n",
    "    \"\"\"创建回归树\"\"\"\n",
    "    \n",
    "    feature, value = chooseBestFeatureval2split(dataSetMat)\n",
    "    \n",
    "    if feature == None: return mean(dataSetMat[:, -1])#返回最终的预测结果\n",
    "    \n",
    "    regTree = {}\n",
    "    regTree[\"feature\"] = feature\n",
    "    regTree[\"value\"] = value\n",
    "    leftChild, rightChild = splitByFeatVal(feature, value, dataSetMat)\n",
    "    regTree[\"leftChild\"] = createRegTree(leftChild)\n",
    "    regTree[\"rightChild\"] = createRegTree(rightChild)\n",
    "    \n",
    "    return regTree\n",
    "\n",
    "if __name__ == \"__main__\":\n",
    "    dataSetMat = loadDataset()\n",
    "    regTree = createRegTree(dataSetMat)\n",
    "    print(regTree)"
   ]
  },
  {
   "cell_type": "code",
   "execution_count": 1,
   "metadata": {},
   "outputs": [],
   "source": []
  },
  {
   "cell_type": "code",
   "execution_count": null,
   "metadata": {},
   "outputs": [],
   "source": []
  },
  {
   "cell_type": "code",
   "execution_count": null,
   "metadata": {},
   "outputs": [],
   "source": []
  },
  {
   "cell_type": "code",
   "execution_count": null,
   "metadata": {},
   "outputs": [],
   "source": []
  }
 ],
 "metadata": {
  "kernelspec": {
   "display_name": "Python 3",
   "language": "python",
   "name": "python3"
  },
  "language_info": {
   "codemirror_mode": {
    "name": "ipython",
    "version": 3
   },
   "file_extension": ".py",
   "mimetype": "text/x-python",
   "name": "python",
   "nbconvert_exporter": "python",
   "pygments_lexer": "ipython3",
   "version": "3.8.5"
  }
 },
 "nbformat": 4,
 "nbformat_minor": 4
}
